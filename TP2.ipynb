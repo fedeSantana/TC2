{
 "cells": [
  {
   "cell_type": "code",
   "execution_count": 2,
   "id": "1e6c989b-de45-4034-b417-532da27911cc",
   "metadata": {
    "hide_input": false
   },
   "outputs": [],
   "source": [
    "import matplotlib.pyplot as plt\n",
    "from IPython.display import display, Math\n",
    "# if using a jupyter notebook: include %matplotlib inline. If constructing a .py-file: comment out\n",
    "%matplotlib inline\n",
    "# if high-resolution images are desired: include %config InlineBackend.figure_format = 'svg'\n",
    "%config InlineBackend.figure_format = 'svg'\n",
    "import schemdraw\n",
    "import schemdraw.elements as elm\n",
    "import sympy as sp\n",
    "from wand.image import Image as WImage"
   ]
  },
  {
   "cell_type": "markdown",
   "id": "aed65071-4492-4254-9e37-51db55eecf71",
   "metadata": {
    "hide_input": true
   },
   "source": [
    "img = WImage(filename='hat.pdf')\n",
    "img"
   ]
  },
  {
   "cell_type": "markdown",
   "id": "db6df469-5c00-4c25-b406-95bffc5dbbfd",
   "metadata": {},
   "source": [
    "# Grupo 1\n",
    "- Israel Pavelek\n",
    "- Federico Santana\n",
    "- Victoria \n",
    "- Nico1\n",
    "- Nico2"
   ]
  },
  {
   "cell_type": "markdown",
   "id": "9d489ef8",
   "metadata": {},
   "source": [
    "## Ejercicio 1\n",
    "\n",
    "El siguiente filtro pasabajos debe presentar una respuesta Butterworth con un ancho de banda de -3dB a 1KHz. Determinar el valor de L y C sabiendo que la carga es de 1 KΩ. Verificar las especificaciones del filtro mediante el uso de simuladores. Sugerencia: diseñar el filtro con valores normalizados en frecuencia e impedancia y luego desnormalizar para calcular el valor del filtro pedido"
   ]
  },
  {
   "cell_type": "code",
   "execution_count": 50,
   "id": "457d143e-a7f6-41fb-8da5-97f838ad8e02",
   "metadata": {
    "hide_input": true,
    "tags": [
     "cell.metadata.hide_input=true",
     "hide-input"
    ]
   },
   "outputs": [
    {
     "data": {
      "image/png": "[encoded data removed]",
      "image/svg+xml": [
       "<?xml version=\"1.0\" encoding=\"utf-8\" standalone=\"no\"?>\n",
       "<!DOCTYPE svg PUBLIC \"-//W3C//DTD SVG 1.1//EN\"\n",
       "  \"http://www.w3.org/Graphics/SVG/1.1/DTD/svg11.dtd\">\n",
       "<svg height=\"135.642281pt\" version=\"1.1\" viewBox=\"0 0 264.504 135.642281\" width=\"264.504pt\" xmlns=\"http://www.w3.org/2000/svg\" xmlns:xlink=\"http://www.w3.org/1999/xlink\">\n",
       " <metadata>\n",
       "  <rdf:RDF xmlns:cc=\"http://creativecommons.org/ns#\" xmlns:dc=\"http://purl.org/dc/elements/1.1/\" xmlns:rdf=\"http://www.w3.org/1999/02/22-rdf-syntax-ns#\">\n",
       "   <cc:Work>\n",
       "    <dc:type rdf:resource=\"http://purl.org/dc/dcmitype/StillImage\"/>\n",
       "    <dc:date>2021-06-11T12:41:39.440261</dc:date>\n",
       "    <dc:format>image/svg+xml</dc:format>\n",
       "    <dc:creator>\n",
       "     <cc:Agent>\n",
       "      <dc:title>Matplotlib v3.4.2, https://matplotlib.org/</dc:title>\n",
       "     </cc:Agent>\n",
       "    </dc:creator>\n",
       "   </cc:Work>\n",
       "  </rdf:RDF>\n",
       " </metadata>\n",
       " <defs>\n",
       "  <style type=\"text/css\">*{stroke-linecap:butt;stroke-linejoin:round;}</style>\n",
       " </defs>\n",
       " <g id=\"figure_1\">\n",
       "  <g id=\"patch_1\">\n",
       "   <path d=\"M 0 135.642281 \n",
       "L 264.504 135.642281 \n",
       "L 264.504 0 \n",
       "L 0 0 \n",
       "z\n",
       "\" style=\"fill:none;\"/>\n",
       "  </g>\n",
       "  <g id=\"axes_1\">\n",
       "   <g id=\"patch_2\">\n",
       "    <path clip-path=\"url(#pc01ad950c6)\" d=\"M 80.26515 33.582281 \n",
       "C 80.26515 32.568217 79.861885 31.594649 79.144833 30.877598 \n",
       "C 78.427782 30.160546 77.454214 29.757281 76.44015 29.757281 \n",
       "C 75.426086 29.757281 74.452518 30.160546 73.735467 30.877598 \n",
       "C 73.018415 31.594649 72.61515 32.568217 72.61515 33.582281 \n",
       "\" style=\"fill:none;stroke:#000000;stroke-linejoin:miter;stroke-width:2;\"/>\n",
       "   </g>\n",
       "   <g id=\"patch_3\">\n",
       "    <path clip-path=\"url(#pc01ad950c6)\" d=\"M 87.91515 33.582281 \n",
       "C 87.91515 32.568217 87.511885 31.594649 86.794833 30.877598 \n",
       "C 86.077782 30.160546 85.104214 29.757281 84.09015 29.757281 \n",
       "C 83.076086 29.757281 82.102518 30.160546 81.385467 30.877598 \n",
       "C 80.668415 31.594649 80.26515 32.568217 80.26515 33.582281 \n",
       "\" style=\"fill:none;stroke:#000000;stroke-linejoin:miter;stroke-width:2;\"/>\n",
       "   </g>\n",
       "   <g id=\"patch_4\">\n",
       "    <path clip-path=\"url(#pc01ad950c6)\" d=\"M 95.56515 33.582281 \n",
       "C 95.56515 32.568217 95.161885 31.594649 94.444833 30.877598 \n",
       "C 93.727782 30.160546 92.754214 29.757281 91.74015 29.757281 \n",
       "C 90.726086 29.757281 89.752518 30.160546 89.035467 30.877598 \n",
       "C 88.318415 31.594649 87.91515 32.568217 87.91515 33.582281 \n",
       "\" style=\"fill:none;stroke:#000000;stroke-linejoin:miter;stroke-width:2;\"/>\n",
       "   </g>\n",
       "   <g id=\"patch_5\">\n",
       "    <path clip-path=\"url(#pc01ad950c6)\" d=\"M 103.21515 33.582281 \n",
       "C 103.21515 32.568217 102.811885 31.594649 102.094833 30.877598 \n",
       "C 101.377782 30.160546 100.404214 29.757281 99.39015 29.757281 \n",
       "C 98.376086 29.757281 97.402518 30.160546 96.685467 30.877598 \n",
       "C 95.968415 31.594649 95.56515 32.568217 95.56515 33.582281 \n",
       "\" style=\"fill:none;stroke:#000000;stroke-linejoin:miter;stroke-width:2;\"/>\n",
       "   </g>\n",
       "   <g id=\"patch_6\">\n",
       "    <path clip-path=\"url(#pc01ad950c6)\" d=\"M 42.01515 94.782281 \n",
       "C 46.072757 94.782281 49.964722 93.170177 52.833884 90.301015 \n",
       "C 55.703045 87.431853 57.31515 83.539888 57.31515 79.482281 \n",
       "C 57.31515 75.424674 55.703045 71.532709 52.833884 68.663547 \n",
       "C 49.964722 65.794386 46.072757 64.182281 42.01515 64.182281 \n",
       "C 37.957543 64.182281 34.065578 65.794386 31.196416 68.663547 \n",
       "C 28.327255 71.532709 26.71515 75.424674 26.71515 79.482281 \n",
       "C 26.71515 83.539888 28.327255 87.431853 31.196416 90.301015 \n",
       "C 34.065578 93.170177 37.957543 94.782281 42.01515 94.782281 \n",
       "z\n",
       "\" style=\"fill:none;stroke:#000000;stroke-linejoin:miter;stroke-width:2;\"/>\n",
       "   </g>\n",
       "   <g id=\"line2d_1\">\n",
       "    <path clip-path=\"url(#pc01ad950c6)\" d=\"M 42.01515 33.582281 \n",
       "L 72.61515 33.582281 \n",
       "M 103.21515 33.582281 \n",
       "L 133.81515 33.582281 \n",
       "\" style=\"fill:none;stroke:#000000;stroke-linecap:round;stroke-width:2;\"/>\n",
       "   </g>\n",
       "   <g id=\"line2d_2\">\n",
       "    <path clip-path=\"url(#pc01ad950c6)\" d=\"M 133.81515 33.582281 \n",
       "L 133.81515 76.728281 \n",
       "M 141.46515 76.728281 \n",
       "L 126.16515 76.728281 \n",
       "M 141.46515 82.236281 \n",
       "L 126.16515 82.236281 \n",
       "M 133.81515 82.236281 \n",
       "L 133.81515 125.382281 \n",
       "\" style=\"fill:none;stroke:#000000;stroke-linecap:round;stroke-width:2;\"/>\n",
       "   </g>\n",
       "   <g id=\"line2d_3\">\n",
       "    <path clip-path=\"url(#pc01ad950c6)\" d=\"M 133.81515 125.382281 \n",
       "L 179.71515 125.382281 \n",
       "L 225.61515 125.382281 \n",
       "\" style=\"fill:none;stroke:#000000;stroke-linecap:round;stroke-width:2;\"/>\n",
       "   </g>\n",
       "   <g id=\"line2d_4\">\n",
       "    <path clip-path=\"url(#pc01ad950c6)\" d=\"M 225.61515 125.382281 \n",
       "L 225.61515 94.782281 \n",
       "L 217.96515 92.232281 \n",
       "L 233.26515 87.132281 \n",
       "L 217.96515 82.032281 \n",
       "L 233.26515 76.932281 \n",
       "L 217.96515 71.832281 \n",
       "L 233.26515 66.732281 \n",
       "L 225.61515 64.182281 \n",
       "L 225.61515 33.582281 \n",
       "\" style=\"fill:none;stroke:#000000;stroke-linecap:round;stroke-width:2;\"/>\n",
       "   </g>\n",
       "   <g id=\"line2d_5\">\n",
       "    <path clip-path=\"url(#pc01ad950c6)\" d=\"M 225.61515 33.582281 \n",
       "L 179.71515 33.582281 \n",
       "L 133.81515 33.582281 \n",
       "\" style=\"fill:none;stroke:#000000;stroke-linecap:round;stroke-width:2;\"/>\n",
       "   </g>\n",
       "   <g id=\"line2d_6\">\n",
       "    <path clip-path=\"url(#pc01ad950c6)\" d=\"M 133.81515 125.382281 \n",
       "L 87.91515 125.382281 \n",
       "L 42.01515 125.382281 \n",
       "\" style=\"fill:none;stroke:#000000;stroke-linecap:round;stroke-width:2;\"/>\n",
       "   </g>\n",
       "   <g id=\"line2d_7\">\n",
       "    <path clip-path=\"url(#pc01ad950c6)\" d=\"M 42.01515 125.382281 \n",
       "L 42.01515 94.782281 \n",
       "L 42.01515 94.782281 \n",
       "M 42.01515 64.182281 \n",
       "L 42.01515 64.182281 \n",
       "L 42.01515 33.582281 \n",
       "\" style=\"fill:none;stroke:#000000;stroke-linecap:round;stroke-width:2;\"/>\n",
       "   </g>\n",
       "   <g id=\"line2d_8\">\n",
       "    <path clip-path=\"url(#pc01ad950c6)\" d=\"M 45.07515 87.132281 \n",
       "L 38.95515 87.132281 \n",
       "\" style=\"fill:none;stroke:#000000;stroke-linecap:round;stroke-width:2;\"/>\n",
       "   </g>\n",
       "   <g id=\"line2d_9\">\n",
       "    <path clip-path=\"url(#pc01ad950c6)\" d=\"M 42.01515 74.892281 \n",
       "L 42.01515 68.772281 \n",
       "\" style=\"fill:none;stroke:#000000;stroke-linecap:round;stroke-width:2;\"/>\n",
       "   </g>\n",
       "   <g id=\"line2d_10\">\n",
       "    <path clip-path=\"url(#pc01ad950c6)\" d=\"M 45.07515 71.832281 \n",
       "L 38.95515 71.832281 \n",
       "\" style=\"fill:none;stroke:#000000;stroke-linecap:round;stroke-width:2;\"/>\n",
       "   </g>\n",
       "   <g id=\"text_1\">\n",
       "    <!-- $L_1$ -->\n",
       "    <g transform=\"translate(80.70515 23.785738)scale(0.14 -0.14)\">\n",
       "     <defs>\n",
       "      <path d=\"M 1075 4666 \n",
       "L 1709 4666 \n",
       "L 909 525 \n",
       "L 3181 525 \n",
       "L 3078 0 \n",
       "L 172 0 \n",
       "L 1075 4666 \n",
       "z\n",
       "\" id=\"DejaVuSans-Oblique-4c\" transform=\"scale(0.015625)\"/>\n",
       "      <path d=\"M 794 531 \n",
       "L 1825 531 \n",
       "L 1825 4091 \n",
       "L 703 3866 \n",
       "L 703 4441 \n",
       "L 1819 4666 \n",
       "L 2450 4666 \n",
       "L 2450 531 \n",
       "L 3481 531 \n",
       "L 3481 0 \n",
       "L 794 0 \n",
       "L 794 531 \n",
       "z\n",
       "\" id=\"DejaVuSans-31\" transform=\"scale(0.015625)\"/>\n",
       "     </defs>\n",
       "     <use transform=\"translate(0 0.09375)\" xlink:href=\"#DejaVuSans-Oblique-4c\"/>\n",
       "     <use transform=\"translate(55.712891 -16.3125)scale(0.7)\" xlink:href=\"#DejaVuSans-31\"/>\n",
       "    </g>\n",
       "   </g>\n",
       "   <g id=\"text_2\">\n",
       "    <!-- $C_1$ -->\n",
       "    <g transform=\"translate(144.52515 83.345406)scale(0.14 -0.14)\">\n",
       "     <defs>\n",
       "      <path d=\"M 4447 4306 \n",
       "L 4319 3641 \n",
       "Q 4019 3944 3683 4091 \n",
       "Q 3347 4238 2956 4238 \n",
       "Q 2422 4238 2017 3981 \n",
       "Q 1613 3725 1319 3200 \n",
       "Q 1131 2863 1032 2486 \n",
       "Q 934 2109 934 1728 \n",
       "Q 934 1091 1264 756 \n",
       "Q 1594 422 2222 422 \n",
       "Q 2656 422 3056 561 \n",
       "Q 3456 700 3834 978 \n",
       "L 3688 231 \n",
       "Q 3316 72 2936 -9 \n",
       "Q 2556 -91 2175 -91 \n",
       "Q 1278 -91 773 396 \n",
       "Q 269 884 269 1753 \n",
       "Q 269 2309 461 2846 \n",
       "Q 653 3384 1013 3828 \n",
       "Q 1394 4300 1883 4525 \n",
       "Q 2372 4750 3022 4750 \n",
       "Q 3422 4750 3780 4639 \n",
       "Q 4138 4528 4447 4306 \n",
       "z\n",
       "\" id=\"DejaVuSans-Oblique-43\" transform=\"scale(0.015625)\"/>\n",
       "     </defs>\n",
       "     <use transform=\"translate(0 0.78125)\" xlink:href=\"#DejaVuSans-Oblique-43\"/>\n",
       "     <use transform=\"translate(69.824219 -15.625)scale(0.7)\" xlink:href=\"#DejaVuSans-31\"/>\n",
       "    </g>\n",
       "   </g>\n",
       "   <g id=\"text_3\">\n",
       "    <!-- $R_1$ -->\n",
       "    <g transform=\"translate(236.32515 83.345406)scale(0.14 -0.14)\">\n",
       "     <defs>\n",
       "      <path d=\"M 1613 4147 \n",
       "L 1294 2491 \n",
       "L 2106 2491 \n",
       "Q 2584 2491 2879 2755 \n",
       "Q 3175 3019 3175 3444 \n",
       "Q 3175 3784 2976 3965 \n",
       "Q 2778 4147 2406 4147 \n",
       "L 1613 4147 \n",
       "z\n",
       "M 2772 2241 \n",
       "Q 2972 2194 3105 2009 \n",
       "Q 3238 1825 3413 1275 \n",
       "L 3809 0 \n",
       "L 3144 0 \n",
       "L 2778 1197 \n",
       "Q 2638 1659 2453 1815 \n",
       "Q 2269 1972 1888 1972 \n",
       "L 1191 1972 \n",
       "L 806 0 \n",
       "L 172 0 \n",
       "L 1081 4666 \n",
       "L 2503 4666 \n",
       "Q 3150 4666 3495 4373 \n",
       "Q 3841 4081 3841 3531 \n",
       "Q 3841 3044 3547 2687 \n",
       "Q 3253 2331 2772 2241 \n",
       "z\n",
       "\" id=\"DejaVuSans-Oblique-52\" transform=\"scale(0.015625)\"/>\n",
       "     </defs>\n",
       "     <use transform=\"translate(0 0.09375)\" xlink:href=\"#DejaVuSans-Oblique-52\"/>\n",
       "     <use transform=\"translate(69.482422 -16.3125)scale(0.7)\" xlink:href=\"#DejaVuSans-31\"/>\n",
       "    </g>\n",
       "   </g>\n",
       "   <g id=\"text_4\">\n",
       "    <!-- $V_1$ -->\n",
       "    <g transform=\"translate(7.41515 83.345406)scale(0.14 -0.14)\">\n",
       "     <defs>\n",
       "      <path d=\"M 1319 0 \n",
       "L 500 4666 \n",
       "L 1119 4666 \n",
       "L 1797 653 \n",
       "L 4063 4666 \n",
       "L 4750 4666 \n",
       "L 2053 0 \n",
       "L 1319 0 \n",
       "z\n",
       "\" id=\"DejaVuSans-Oblique-56\" transform=\"scale(0.015625)\"/>\n",
       "     </defs>\n",
       "     <use transform=\"translate(0 0.09375)\" xlink:href=\"#DejaVuSans-Oblique-56\"/>\n",
       "     <use transform=\"translate(68.408203 -16.3125)scale(0.7)\" xlink:href=\"#DejaVuSans-31\"/>\n",
       "    </g>\n",
       "   </g>\n",
       "  </g>\n",
       " </g>\n",
       " <defs>\n",
       "  <clipPath id=\"pc01ad950c6\">\n",
       "   <rect height=\"121.242281\" width=\"250.104\" x=\"7.2\" y=\"7.2\"/>\n",
       "  </clipPath>\n",
       " </defs>\n",
       "</svg>\n"
      ],
      "text/plain": [
       "<schemdraw.backends.mpl.Figure object at 0x7f129f0db220>"
      ]
     },
     "execution_count": 50,
     "metadata": {},
     "output_type": "execute_result"
    }
   ],
   "source": [
    "\n",
    "d = schemdraw.Drawing()\n",
    "L1 = d.add(elm.Inductor().label('$L_1$'))\n",
    "C1 = d.add(elm.Capacitor().down().label('$C_1$', loc='bottom'))\n",
    "d += elm.Line().right()\n",
    "R1 = d.add(elm.Resistor().up().label('$R_1$', loc='bottom'))\n",
    "d.add(elm.Line().left())\n",
    "line = d.add(elm.Line().left().at(C1.end))\n",
    "V1 = d.add(elm.elm.SourceV().up().label('$V_1$',loc='top'))\n",
    "\n",
    "\n",
    "\n",
    "\n",
    "d.draw()"
   ]
  },
  {
   "cell_type": "markdown",
   "id": "45e0f082",
   "metadata": {},
   "source": [
    "Primero calcularemos la transferencia de este filtro, que es $$H(s)=\\frac{z_1}{z_1+z_2}=\\frac{\\frac{z_c\\cdot z_r}{z_c+z_r}}{z_l+\\frac{z_c\\cdot z_r}{z_c+z_r}}$$"
   ]
  },
  {
   "cell_type": "code",
   "execution_count": 123,
   "id": "bc5fd7be",
   "metadata": {
    "hide_input": false
   },
   "outputs": [
    {
     "data": {
      "text/latex": [
       "$\\displaystyle H(s)=\\frac{R}{C L R s^{2} + L s + R}$"
      ],
      "text/plain": [
       "<IPython.core.display.Math object>"
      ]
     },
     "metadata": {},
     "output_type": "display_data"
    }
   ],
   "source": [
    "# Definimos las variables y funciones\n",
    "C,R,L = sp.symbols('C R L', positive=True)\n",
    "s = sp.symbols('s')\n",
    "H = sp.symbols('H', cls=sp.Function)\n",
    "\n",
    "Z_c = 1/(s*C)\n",
    "Z_l = s*L\n",
    "Z_r = R\n",
    "\n",
    "Z_2 = sp.simplify((Z_r * Z_c) / (Z_r + Z_c))\n",
    "\n",
    "dem = sp.factor(Z_l + Z_2)\n",
    "\n",
    "H = sp.factor(Z_2/(Z_l+Z_2))\n",
    "display(Math(\"H(s)=\"+sp.latex(H)))"
   ]
  },
  {
   "cell_type": "markdown",
   "id": "299ac6fc",
   "metadata": {},
   "source": [
    "Lo queremos en su forma mónica, planeaba usar el comando $sympy.monic$ de $sympy.poly$"
   ]
  },
  {
   "cell_type": "code",
   "execution_count": 130,
   "id": "68568db0",
   "metadata": {},
   "outputs": [
    {
     "data": {
      "text/latex": [
       "$\\displaystyle H(s)=\\frac{\\frac{1}{C} \\frac{1}{L}}{s^{2} + \\frac{s}{C R} + \\frac{1}{C L}}$"
      ],
      "text/plain": [
       "<IPython.core.display.Math object>"
      ]
     },
     "metadata": {},
     "output_type": "display_data"
    }
   ],
   "source": [
    "numerador, denominador = sp.fraction(H)\n",
    "num = numerador / sp.poly(denominador,s).LC()\n",
    "dem = sp.monic(sp.poly(denominador, s))\n",
    "H = sp.Mul(num , 1/dem, evaluate=False)\n",
    "display(Math(\"H(s)=\"+sp.latex(H)))\n"
   ]
  },
  {
   "cell_type": "markdown",
   "id": "2edb0d87",
   "metadata": {},
   "source": [
    "Nos interesa que sea un Butterworth de segundo orden, una transferencia de butterworth de segundo orden es:\n",
    "\n",
    "$$H(s)=\\frac{w_0}{s^2+\\frac{w_0}{Q}s+w_0}$$\n",
    "\n",
    "Normalizado a $$w_0 = 1$$\n",
    "\n",
    "$$H(s)=\\frac{1}{s^2+\\sqrt{2}s+1}$$\n"
   ]
  },
  {
   "cell_type": "markdown",
   "id": "03252b78",
   "metadata": {},
   "source": [
    "De ahí deducimos que: \n",
    "\n",
    "$$\\sqrt{2}=\\frac{1}{CR} , L = \\frac{1}{C}$$\n",
    "\n",
    "R puede tener cualquier valor porque tengo un grado de libertad, decido $R=1\\Omega$\n",
    "$$C = \\frac{1}{\\sqrt{2}} \\approx 0.707F$$\n",
    "$$L = \\frac{1}{C} \\approx 1.414Hy$$"
   ]
  },
  {
   "cell_type": "markdown",
   "id": "1563a522",
   "metadata": {},
   "source": [
    "Simulación:\n",
    "\n",
    "Captura de la simulación acá"
   ]
  },
  {
   "cell_type": "markdown",
   "id": "17c9d18c",
   "metadata": {},
   "source": [
    "## Ejercicio 2\n",
    "\n",
    "Se desea diseñar un filtro pasabajos con las siguientes características.\n",
    "- Máxima planicidad en la banda de paso\n",
    "- Máxima atenuación: $0.02 dB$ para $0 < ⍵ < 1$\n",
    "- Mínima atenuación para $⍵ > 2.2: 48 dB$\n",
    "Se pide obtener los parámetros $n$ y $ɛ$\n"
   ]
  },
  {
   "cell_type": "markdown",
   "id": "79b08408",
   "metadata": {},
   "source": [
    "Sabemos que:\n",
    "\n",
    "$$w_p = 1$$\n",
    "$$w_s = 2.2$$\n",
    "$$\\alpha_{max}=0.02dB$$\n",
    "$$\\alpha_{min}=48dB$$\n",
    "\n",
    "$$\\epsilon = \\sqrt{10^{-0.1\\alpha_{max}} - 1}$$\n",
    "$$\\epsilon = \\sqrt{10^{-0.1\\cdot0.02dB} - 1}$$\n",
    "$$\\epsilon \\approx 0.068$$\n",
    "\n",
    "Además N:\n",
    "\n",
    "$$N=\\frac{log\\left(\\frac{10^{0.1\\alpha_{min}}-1}{\\epsilon^2}\\right)}{2\\cdot \\log(w_s)}\\approx 10.41 \\Longrightarrow N=11$$"
   ]
  },
  {
   "cell_type": "markdown",
   "id": "b7caddf3",
   "metadata": {},
   "source": [
    "## Ejercicio 3\n",
    "![](Ej3.png)"
   ]
  },
  {
   "cell_type": "markdown",
   "id": "f6fd565d",
   "metadata": {},
   "source": [
    "Aprovechando que todos tienen la misma $f_p$, normalizamos a esa frecuencia pero para poder trabajar cómodamente en $\\omega$ lo hacemos por 2pi, es decir:\n",
    "\n",
    "$$\\Omega_w=2\\pi \\cdot f_p = 2\\pi \\cdot 1KHz$$\n",
    "\n",
    "Calculamos \\epsilon y N para cada caso"
   ]
  },
  {
   "cell_type": "code",
   "execution_count": 203,
   "id": "3a18a30f",
   "metadata": {},
   "outputs": [
    {
     "data": {
      "text/latex": [
       "$\\displaystyle \\frac{\\log{\\left(\\frac{10^{0.1 α_{min}} - 1}{e^{2}} \\right)}}{\\log{\\left(10 \\right)}}$"
      ],
      "text/plain": [
       "<IPython.core.display.Math object>"
      ]
     },
     "metadata": {},
     "output_type": "display_data"
    },
    {
     "data": {
      "text/latex": [
       "$\\displaystyle \\epsilon =0.35   N=-0.14$"
      ],
      "text/plain": [
       "<IPython.core.display.Math object>"
      ]
     },
     "metadata": {},
     "output_type": "display_data"
    },
    {
     "data": {
      "text/latex": [
       "$\\displaystyle \\epsilon =0.35   N=-0.36$"
      ],
      "text/plain": [
       "<IPython.core.display.Math object>"
      ]
     },
     "metadata": {},
     "output_type": "display_data"
    },
    {
     "data": {
      "text/latex": [
       "$\\displaystyle \\epsilon =0.51   N=0.046$"
      ],
      "text/plain": [
       "<IPython.core.display.Math object>"
      ]
     },
     "metadata": {},
     "output_type": "display_data"
    },
    {
     "data": {
      "text/latex": [
       "$\\displaystyle \\epsilon =0.35   N=-0.46$"
      ],
      "text/plain": [
       "<IPython.core.display.Math object>"
      ]
     },
     "metadata": {},
     "output_type": "display_data"
    }
   ],
   "source": [
    "ripples = [0.5,0.5,1,0.5]\n",
    "attenuation = [30,20,35,20]\n",
    "w_s = [2.33,2.0,3.5,1.725]\n",
    "cantidad = 4\n",
    "decimales = 2\n",
    "α_max = sp.symbols('α_{max}', positive=True)\n",
    "α_min = sp.symbols('α_{min}', positive=True)\n",
    "ws = sp.symbols('w_s', positive=True)\n",
    "epsi = sp.symbols('e', positive=True);\n",
    "\n",
    "epsilon = sp.sqrt(10**(0.1*α_max)-1)\n",
    "\n",
    "num = sp.log( (10**(0.1*α_min)-1) / epsi**2, 10)\n",
    "N = sp.log( num / 2 * sp.log(ws,10), 10)\n",
    "\n",
    "display(Math(sp.latex(num)))\n",
    "\n",
    "epsilons = []\n",
    "Ns = []\n",
    "for i in range(cantidad):\n",
    "    epsilons.append(sp.N(epsilon.subs({α_max:ripples[i]}),decimales))\n",
    "    Ns.append( sp.N(N.subs({epsi:epsilons[i], α_min:attenuation[i],ws:w_s[i]}),2))\n",
    "    display(Math(\"\\epsilon =\"+sp.latex(epsilons[i]) + \"   N=\" + sp.latex(Ns[i])))\n"
   ]
  },
  {
   "cell_type": "markdown",
   "id": "4e0ceb3c",
   "metadata": {},
   "source": [
    "# "
   ]
  },
  {
   "cell_type": "code",
   "execution_count": null,
   "id": "98cea17d",
   "metadata": {},
   "outputs": [],
   "source": []
  }
 ],
 "metadata": {
  "kernelspec": {
   "display_name": "Python 3",
   "language": "python",
   "name": "python3"
  },
  "language_info": {
   "codemirror_mode": {
    "name": "ipython",
    "version": 3
   },
   "file_extension": ".py",
   "mimetype": "text/x-python",
   "name": "python",
   "nbconvert_exporter": "python",
   "pygments_lexer": "ipython3",
   "version": "3.8.5"
  },
  "latex_envs": {
   "LaTeX_envs_menu_present": true,
   "autoclose": false,
   "autocomplete": true,
   "bibliofile": "biblio.bib",
   "cite_by": "apalike",
   "current_citInitial": 1,
   "eqLabelWithNumbers": true,
   "eqNumInitial": 1,
   "hotkeys": {
    "equation": "Ctrl-E",
    "itemize": "Ctrl-I"
   },
   "labels_anchors": false,
   "latex_user_defs": false,
   "report_style_numbering": false,
   "user_envs_cfg": false
  }
 },
 "nbformat": 4,
 "nbformat_minor": 5
}
