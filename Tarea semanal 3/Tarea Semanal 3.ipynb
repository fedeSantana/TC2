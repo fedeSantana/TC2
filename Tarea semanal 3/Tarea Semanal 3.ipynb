{
 "cells": [
  {
   "cell_type": "markdown",
   "id": "f5a8e544-3f00-454d-bc6e-e52ee707b8b5",
   "metadata": {},
   "source": [
    "# Tarea Semanal #3"
   ]
  },
  {
   "cell_type": "markdown",
   "id": "90d7c096-95fb-4be6-b520-fd07151c441b",
   "metadata": {},
   "source": [
    "[](ConsignaTareaSemanal3.png)"
   ]
  },
  {
   "cell_type": "code",
   "execution_count": 76,
   "id": "52e09f04-7137-43a3-af34-42f8c445c335",
   "metadata": {},
   "outputs": [],
   "source": [
    "# Módulos que necesitaré\n",
    "import sympy as sp\n",
    "import math\n",
    "from math import log\n",
    "from IPython.display import display, Math\n",
    "from generatePoly import generatePoly\n",
    "import schemdraw\n",
    "import schemdraw.elements as elm"
   ]
  },
  {
   "cell_type": "markdown",
   "id": "7d76a0f7-8aa7-4314-98ea-8832f07a7fc8",
   "metadata": {},
   "source": [
    "### Primero obtendremos la plantilla pasabanda normalizada, para ello haremos un poqueño gráfico que nos de idea de qué está ocurriendo:"
   ]
  },
  {
   "cell_type": "markdown",
   "id": "3801e180-6195-4d82-97ac-a940e71528a8",
   "metadata": {},
   "source": [
    "![](PlantillaPasabanda.png)"
   ]
  },
  {
   "cell_type": "markdown",
   "id": "5e49f79b-a5c2-45a1-8ca2-5bda9ccf0003",
   "metadata": {},
   "source": [
    "Definimos:\n",
    "- $w_0 = \\frac{w_0}{\\Omega_w}=1$\n",
    "\n",
    "Y por tanto sabemos que:\n",
    "- $\\Omega_w = 2\\pi \\cdot 22KHz $\n",
    "\n",
    "Además:\n",
    "\n",
    "- $B = w_2-w_1 \\longrightarrow w_2 = B + w_1 \\longrightarrow w_1=w_2-B$\n",
    "\n",
    "De ahí deducimos que:\n",
    "\n",
    "- ${w_1}^2 + Bw_1 - 1 = 0$\n",
    "\n",
    "Para resolverlo y ver el potencial de Sympy, lo haremos utilizando está herramienta:"
   ]
  },
  {
   "cell_type": "code",
   "execution_count": 17,
   "id": "f2687f27-9350-41f4-b494-2fc182885f1e",
   "metadata": {},
   "outputs": [
    {
     "data": {
      "text/latex": [
       "$\\displaystyle w_1 =- \\frac{B}{2} + \\frac{\\sqrt{B^{2} + 4}}{2}$"
      ],
      "text/plain": [
       "<IPython.core.display.Math object>"
      ]
     },
     "metadata": {},
     "output_type": "display_data"
    }
   ],
   "source": [
    "s = sp.symbols('s') # Creamos las variables que usaremos en nuestras funciones.\n",
    "w_1, B = sp.symbols('w_1 B', positive=True)\n",
    "H, f, Dem, p, np, result = sp.symbols('H, f, Dem p np result', cls=sp.Function) # Creamos las funciones que usaremos.\n",
    "\n",
    "solucion = sp.solve(w_1**2 + B*w_1 - 1, w_1)\n",
    "\n",
    "# Pongo solucion[0] porque pese a ser una única solución (dado que B y w_1 son positivos), sp.solve devuelve un array.\n",
    "display(Math(\"w_1 =\" + sp.latex(solucion[0])))"
   ]
  },
  {
   "cell_type": "markdown",
   "id": "e0fb8b7a-d1d0-499f-b2ff-0f0df0383ea4",
   "metadata": {},
   "source": [
    "Como sabemos que $B = \\frac{1}{5}$ reemplazamos en la solución:"
   ]
  },
  {
   "cell_type": "code",
   "execution_count": 18,
   "id": "e2fdd1b4-a3ae-45d8-83ba-6f9831c686df",
   "metadata": {},
   "outputs": [
    {
     "data": {
      "text/latex": [
       "$\\displaystyle w_1=0.904987562112089$"
      ],
      "text/plain": [
       "<IPython.core.display.Math object>"
      ]
     },
     "metadata": {},
     "output_type": "display_data"
    }
   ],
   "source": [
    "w_1 = solucion[0].subs({B: 1/5})\n",
    "\n",
    "display(Math(\"w_1=\"+ str(w_1)))"
   ]
  },
  {
   "cell_type": "markdown",
   "id": "4a31468b-25ee-43ba-a468-75e9f088d84f",
   "metadata": {},
   "source": [
    "Como $w_1 \\cdot w_2 = 1$ podemos calcular $w_2$ rápidamente:"
   ]
  },
  {
   "cell_type": "code",
   "execution_count": 19,
   "id": "5bb06e38-64f8-42c3-aa26-ac3c9784695f",
   "metadata": {},
   "outputs": [
    {
     "data": {
      "text/latex": [
       "$\\displaystyle w_2 = 1.10498756211209$"
      ],
      "text/plain": [
       "<IPython.core.display.Math object>"
      ]
     },
     "metadata": {},
     "output_type": "display_data"
    }
   ],
   "source": [
    "w_2 = 1/w_1\n",
    "display(Math(\"w_2 = \" + str(w_2)))"
   ]
  },
  {
   "cell_type": "markdown",
   "id": "8600ba7e-1dce-4876-9e8c-35324ec68bc7",
   "metadata": {},
   "source": [
    "Para calcular $w_{s_1}$ y $w_{s_2}$ sólo tenemos que aplicar la norma $\\Omega_w$:"
   ]
  },
  {
   "cell_type": "code",
   "execution_count": 20,
   "id": "0f6a5d39-855a-4508-8f16-92c345e81143",
   "metadata": {},
   "outputs": [
    {
     "data": {
      "text/latex": [
       "$\\displaystyle w_{s_1} = \\frac{2\\pi \\cdot 16KHz}{2\\pi \\cdot 22KHz} = \\frac{8}{11} = 0.7272727272727273$"
      ],
      "text/plain": [
       "<IPython.core.display.Math object>"
      ]
     },
     "metadata": {},
     "output_type": "display_data"
    },
    {
     "data": {
      "text/latex": [
       "$\\displaystyle w_{s_2} = \\frac{2\\pi \\cdot 16KHz}{2\\pi \\cdot 22KHz} = \\frac{8}{11} = 1.6363636363636362$"
      ],
      "text/plain": [
       "<IPython.core.display.Math object>"
      ]
     },
     "metadata": {},
     "output_type": "display_data"
    }
   ],
   "source": [
    "f_s1 = 16 # [KHz] Consigna\n",
    "f_s2 = 36 # [KHz] Consigna\n",
    "π = 3.14159265359\n",
    "Ω_w = 2 * π * 22\n",
    "#Calculamos w_s1 y w_s2\n",
    "w_s1 = 2 * π * f_s1\n",
    "w_s2 = 2 * π * f_s2\n",
    "# Aplicamos la norma\n",
    "w_s1 = w_s1 / Ω_w\n",
    "w_s2 = w_s2 / Ω_w\n",
    "\n",
    "\n",
    "display(Math(\"w_{s_1} = \\\\frac{2\\pi \\cdot 16KHz}{2\\pi \\cdot 22KHz} = \\\\frac{8}{11} = \" + str(w_s1) ))\n",
    "display(Math(\"w_{s_2} = \\\\frac{2\\pi \\cdot 16KHz}{2\\pi \\cdot 22KHz} = \\\\frac{8}{11} = \" + str(w_s2) ))"
   ]
  },
  {
   "cell_type": "markdown",
   "id": "3dd617d8-f014-4d88-bc4b-8fd34d1f589d",
   "metadata": {},
   "source": [
    "Aplicamos la transf. $PB_a \\longrightarrow$ PB\n",
    "$$\\Omega_{s_i} = \\frac{Q\\left({w_{s_i}}^2 - 1\\right)}{w_{s_i}}$$"
   ]
  },
  {
   "cell_type": "code",
   "execution_count": 21,
   "id": "bf0fee8d-dc93-4a08-80f7-517f9034f97f",
   "metadata": {},
   "outputs": [
    {
     "data": {
      "text/latex": [
       "$\\displaystyle \\Omega_{s_1} =-3.2386363636363633$"
      ],
      "text/plain": [
       "<IPython.core.display.Math object>"
      ]
     },
     "metadata": {},
     "output_type": "display_data"
    },
    {
     "data": {
      "text/latex": [
       "$\\displaystyle \\Omega_{s_2} =5.1262626262626245$"
      ],
      "text/plain": [
       "<IPython.core.display.Math object>"
      ]
     },
     "metadata": {},
     "output_type": "display_data"
    },
    {
     "data": {
      "text/plain": [
       "'¿Nos puede dar negativo? Acá nos damos cuenta de que eso es medio rari, en realidad queremos el módulo, así que:'"
      ]
     },
     "metadata": {},
     "output_type": "display_data"
    },
    {
     "data": {
      "text/latex": [
       "$\\displaystyle \\Omega_{s_1} =3.2386363636363633$"
      ],
      "text/plain": [
       "<IPython.core.display.Math object>"
      ]
     },
     "metadata": {},
     "output_type": "display_data"
    },
    {
     "data": {
      "text/latex": [
       "$\\displaystyle \\Omega_{s_2} =5.1262626262626245$"
      ],
      "text/plain": [
       "<IPython.core.display.Math object>"
      ]
     },
     "metadata": {},
     "output_type": "display_data"
    }
   ],
   "source": [
    "Q = 5\n",
    "Ω_s1 = Q * (w_s1**2 - 1) / w_s1 \n",
    "Ω_s2 = Q * (w_s2**2 - 1) / w_s2\n",
    "\n",
    "display(Math(\"\\Omega_{s_1} =\" + str(Ω_s1) ))\n",
    "display(Math(\"\\Omega_{s_2} =\" + str(Ω_s2) ))\n",
    "\n",
    "display(\"¿Nos puede dar negativo? Acá nos damos cuenta de que eso es medio rari, en realidad queremos el módulo, así que:\")\n",
    "Ω_s1 = abs(Ω_s1)\n",
    "Ω_s2 = abs(Ω_s2)\n",
    "\n",
    "display(Math(\"\\Omega_{s_1} =\" + str(Ω_s1) ))\n",
    "display(Math(\"\\Omega_{s_2} =\" + str(Ω_s2) ))"
   ]
  },
  {
   "cell_type": "markdown",
   "id": "4e94019a-8635-4817-aee6-9c28ab08bb13",
   "metadata": {},
   "source": [
    "Calculamos $ϵ$ que es:\n",
    "\n",
    "$$ϵ = \\sqrt{10^{0.1\\alpha_{max}} - 1}$$"
   ]
  },
  {
   "cell_type": "code",
   "execution_count": 22,
   "id": "f8bd33cf-b6eb-4907-9343-86e2a59259e1",
   "metadata": {},
   "outputs": [
    {
     "data": {
      "text/latex": [
       "$\\displaystyle ϵ =0.349311400188948$"
      ],
      "text/plain": [
       "<IPython.core.display.Math object>"
      ]
     },
     "metadata": {},
     "output_type": "display_data"
    }
   ],
   "source": [
    "# No voy a usar la letra epsilon porque se puede confundir con una e a diferencia de pi y Omega\n",
    "# Así que usaré la letra e que representará a epsilon\n",
    "α_max = 0.5 # [DB] \n",
    "e = sp.sqrt(10**(0.1*α_max) - 1)\n",
    "display(Math(\"ϵ =\" + str(e) ))"
   ]
  },
  {
   "cell_type": "markdown",
   "id": "39a64cc8-28ba-43f4-8032-511d39f15fc3",
   "metadata": {},
   "source": [
    "Para cada filtro pasabajo calculamos el n y nos quedamos con el que de más grande para estar seguros de que cumplamos las exigencias mínimas del filtro, para calcular n podemos usar la formula mágica que salió del libro o iterar con distintos n y ver que la siguiente regla:\n",
    "\n",
    "$$ \\alpha(w_s) = 10 log\\left(1 + \\epsilon^2{w_s}^{2n}\\right)$$\n",
    "\n",
    "Esta última forma tiene sentido, es de deducción inmediata y muy conveniente para no tener que memorizar nada, además de ser la preferida del profesor (por todas estas razones). \n",
    "Usaremos esta última pero implementada con sympy."
   ]
  },
  {
   "cell_type": "code",
   "execution_count": 23,
   "id": "3b9becca-3665-43b3-a132-5053112f4cc3",
   "metadata": {},
   "outputs": [
    {
     "data": {
      "text/latex": [
       "$\\displaystyle  n = 1 \\Longrightarrow 16dB < 4dB \\Longrightarrow True$"
      ],
      "text/plain": [
       "<IPython.core.display.Math object>"
      ]
     },
     "metadata": {},
     "output_type": "display_data"
    },
    {
     "data": {
      "text/latex": [
       "$\\displaystyle  n = 2 \\Longrightarrow 16dB < 12dB \\Longrightarrow True$"
      ],
      "text/plain": [
       "<IPython.core.display.Math object>"
      ]
     },
     "metadata": {},
     "output_type": "display_data"
    },
    {
     "data": {
      "text/latex": [
       "$\\displaystyle  n = 3 \\Longrightarrow 16dB < 22dB \\Longrightarrow False$"
      ],
      "text/plain": [
       "<IPython.core.display.Math object>"
      ]
     },
     "metadata": {},
     "output_type": "display_data"
    },
    {
     "data": {
      "text/plain": [
       "'Ahora hacemos lo mismo para el otro pasabajos:'"
      ]
     },
     "metadata": {},
     "output_type": "display_data"
    },
    {
     "data": {
      "text/latex": [
       "$\\displaystyle  n = 1 \\Longrightarrow 24dB < 7dB \\Longrightarrow True$"
      ],
      "text/plain": [
       "<IPython.core.display.Math object>"
      ]
     },
     "metadata": {},
     "output_type": "display_data"
    },
    {
     "data": {
      "text/latex": [
       "$\\displaystyle  n = 2 \\Longrightarrow 24dB < 20dB \\Longrightarrow True$"
      ],
      "text/plain": [
       "<IPython.core.display.Math object>"
      ]
     },
     "metadata": {},
     "output_type": "display_data"
    },
    {
     "data": {
      "text/latex": [
       "$\\displaystyle  n = 3 \\Longrightarrow 24dB < 34dB \\Longrightarrow False$"
      ],
      "text/plain": [
       "<IPython.core.display.Math object>"
      ]
     },
     "metadata": {},
     "output_type": "display_data"
    }
   ],
   "source": [
    "n = 1\n",
    "n2 = 1\n",
    "posibleResultado = 0\n",
    "posibleResultado2 = 0\n",
    "\n",
    "α_min_1 = 16\n",
    "α_min_2 = 24\n",
    "while (α_min_1 > posibleResultado):\n",
    "    dem = 1 + e**2 * Ω_s1 ** (2 * n)\n",
    "    posibleResultado = 10 * log(dem,10)\n",
    "    display(Math( f\" n = {n} \\Longrightarrow {α_min_1}dB < {math.ceil(posibleResultado)}dB \\Longrightarrow {α_min_1 > posibleResultado}\" ))\n",
    "    n = n + 1\n",
    "\n",
    "n = n - 1\n",
    "\n",
    "display(\"Ahora hacemos lo mismo para el otro pasabajos:\")\n",
    "\n",
    "while (α_min_2 > posibleResultado2):\n",
    "    dem = 1 + e**2 * Ω_s2 ** (2 * n2)\n",
    "    posibleResultado2 = 10 * log(dem,10)\n",
    "    display(Math( f\" n = {n2} \\Longrightarrow {α_min_2}dB < {math.ceil(posibleResultado2)}dB \\Longrightarrow {α_min_2 > posibleResultado2}\" ))\n",
    "    n2 = n2 + 1\n",
    "    \n",
    "n2 = n2 -1"
   ]
  },
  {
   "cell_type": "markdown",
   "id": "fdc568c7-c1e4-4295-aba8-f5e906146d56",
   "metadata": {},
   "source": [
    "Ahora hacemos un chevyshev de orden 3 normalizado, sabiendo que:\n",
    "\n",
    "$$\\left|H(jw)\\right|^2 = \\frac{1}{1 + \\epsilon^2{w_{cn}}^{2}}$$\n",
    "\n",
    "Para el polinomio de chevyshev aprovecharemos la función de sympy _chebyshevt_ que nos genera un polinomio."
   ]
  },
  {
   "cell_type": "code",
   "execution_count": 24,
   "id": "2bc1eb34-e827-430e-abb5-397a78e47b3f",
   "metadata": {},
   "outputs": [
    {
     "data": {
      "text/latex": [
       "$\\displaystyle 4 w^{3} - 3 w$"
      ],
      "text/plain": [
       "4*w**3 - 3*w"
      ]
     },
     "execution_count": 24,
     "metadata": {},
     "output_type": "execute_result"
    }
   ],
   "source": [
    "w, B = sp.symbols('w B')\n",
    "chevy = sp.chebyshevt(n, w)\n",
    "chevy"
   ]
  },
  {
   "cell_type": "markdown",
   "id": "b2660c2e-00b9-45f1-93de-3debcf56002e",
   "metadata": {},
   "source": [
    "Si lo elevamos al cuadrado quedaría:"
   ]
  },
  {
   "cell_type": "code",
   "execution_count": 25,
   "id": "650656fc-7db8-481d-9212-e7c42e3e95b4",
   "metadata": {},
   "outputs": [
    {
     "data": {
      "text/latex": [
       "$\\displaystyle 16 w^{6} - 24 w^{4} + 9 w^{2}$"
      ],
      "text/plain": [
       "16*w**6 - 24*w**4 + 9*w**2"
      ]
     },
     "execution_count": 25,
     "metadata": {},
     "output_type": "execute_result"
    }
   ],
   "source": [
    "chevyCuadrado = sp.expand(chevy ** 2)\n",
    "chevyCuadrado"
   ]
  },
  {
   "cell_type": "markdown",
   "id": "73b1ef88-647a-40c6-86e7-eb377235b0d9",
   "metadata": {},
   "source": [
    "Si le multiplicamos un epsilon genérico y le sumamos 1 obtenemos nuestro denominador:\n",
    "    \n"
   ]
  },
  {
   "cell_type": "code",
   "execution_count": 26,
   "id": "5533ca71-2354-41a1-bb6e-579f37289057",
   "metadata": {},
   "outputs": [
    {
     "data": {
      "text/latex": [
       "$\\displaystyle 16 w^{6} ε^{2} - 24 w^{4} ε^{2} + 9 w^{2} ε^{2} + 1$"
      ],
      "text/plain": [
       "16*w**6*ε**2 - 24*w**4*ε**2 + 9*w**2*ε**2 + 1"
      ]
     },
     "execution_count": 26,
     "metadata": {},
     "output_type": "execute_result"
    }
   ],
   "source": [
    "e = sp.symbols('ε', positive=True)\n",
    "dem = sp.expand(1 + chevyCuadrado * e**2)\n",
    "dem"
   ]
  },
  {
   "cell_type": "markdown",
   "id": "f5777f98-773e-47f8-86d6-c2f73b6e867e",
   "metadata": {},
   "source": [
    "Sabemos además que:\n",
    " \n",
    "\n",
    "$$\\left|H(jw)\\right|^2_{s = \\frac{j}{w}} = H(s)\\cdot H(− s) = \\frac{1}{a_3s^3 + a_2s^2 + a_1s + a_0} \\cdot \\frac{1}{-a_3s^3 + a_2s^2 - a_1s + a_0}$$"
   ]
  },
  {
   "cell_type": "markdown",
   "id": "1870c37f-a585-4bff-88e2-0b356b291a7e",
   "metadata": {},
   "source": [
    "Igualando nuestros polinomios para $\\epsilon = 0.35$ nos queda:"
   ]
  },
  {
   "cell_type": "code",
   "execution_count": 27,
   "id": "22d2353e-699b-4174-b501-e22c0be9f932",
   "metadata": {},
   "outputs": [
    {
     "data": {
      "text/latex": [
       "$\\displaystyle \\operatorname{Poly}{\\left( a_{3} s^{3} + a_{2} s^{2} + a_{1} s + a_{0}, s, domain=\\mathbb{Z}\\left[a_{0}, a_{1}, a_{2}, a_{3}\\right] \\right)}$"
      ],
      "text/plain": [
       "<IPython.core.display.Math object>"
      ]
     },
     "metadata": {},
     "output_type": "display_data"
    },
    {
     "data": {
      "text/latex": [
       "$\\displaystyle \\operatorname{Poly}{\\left( a_{3} - s^{3} + a_{2} s^{2} + a_{1} - s + a_{0}, - s, domain=\\mathbb{Z}\\left[a_{0}, a_{1}, a_{2}, a_{3}\\right] \\right)}$"
      ],
      "text/plain": [
       "<IPython.core.display.Math object>"
      ]
     },
     "metadata": {},
     "output_type": "display_data"
    },
    {
     "data": {
      "text/latex": [
       "$\\displaystyle \\operatorname{Poly}{\\left( - a_{3}^{2} s^{6} + \\left(- 2 a_{1} a_{3} + a_{2}^{2}\\right) s^{4} + \\left(2 a_{0} a_{2} - a_{1}^{2}\\right) s^{2} + a_{0}^{2}, s, domain=\\mathbb{Z}\\left[a_{0}, a_{1}, a_{2}, a_{3}\\right] \\right)}$"
      ],
      "text/plain": [
       "<IPython.core.display.Math object>"
      ]
     },
     "metadata": {},
     "output_type": "display_data"
    }
   ],
   "source": [
    "s = sp.symbols('s')\n",
    "\n",
    "# generatePoly te genera un ponimio genérico de orden n, la función la cree yo.\n",
    "p2, symbols = generatePoly(3)\n",
    "np2 = sp.poly(p2.subs({s:-s}))\n",
    "\n",
    "# Mostramos en LaTeX los polinomios:\n",
    "display(Math((sp.latex(p2)))) \n",
    "display(Math((sp.latex(np2))))\n",
    "\n",
    "## Multiplicamos ambos polinomios y mostramos\n",
    "result = sp.poly(p2 * np2, s)\n",
    "display(Math((sp.latex(result))))\n"
   ]
  },
  {
   "cell_type": "code",
   "execution_count": 28,
   "id": "3fe0cf60-4547-4870-bcbe-60c4e8363a25",
   "metadata": {},
   "outputs": [
    {
     "data": {
      "text/latex": [
       "$\\displaystyle \\operatorname{Poly}{\\left( 1.95229526883141 w^{6} - 2.92844290324712 w^{4} + 1.09816608871767 w^{2} + 1.0, w, domain=\\mathbb{R} \\right)}$"
      ],
      "text/plain": [
       "<IPython.core.display.Math object>"
      ]
     },
     "metadata": {},
     "output_type": "display_data"
    },
    {
     "data": {
      "text/latex": [
       "$\\displaystyle \\operatorname{Poly}{\\left( -1.95229526883141 s^{6} - 2.92844290324712 s^{4} - 1.09816608871767 s^{2} + 1.0, s, domain=\\mathbb{R} \\right)}$"
      ],
      "text/plain": [
       "<IPython.core.display.Math object>"
      ]
     },
     "metadata": {},
     "output_type": "display_data"
    }
   ],
   "source": [
    "\n",
    "## Hago que dem sea del tipo Poly y pongo su epsilon ya con valor:\n",
    "dem = sp.poly(dem, w, e)\n",
    "c = sp.sqrt(10**(0.1*α_max) - 1)\n",
    "#dem = dem.subs({ε:2})\n",
    "demFinal = dem.subs({e:c})\n",
    "#Reemplazo además w por w = s/j\n",
    "display(Math(sp.latex(demFinal)))\n",
    "\n",
    "i = sp.sqrt(-1)\n",
    "\n",
    "demFinalS = demFinal.subs({ w: s/sp.I })\n",
    "demFinalS = sp.poly(demFinalS, s)\n",
    "display(Math(sp.latex(demFinalS)))"
   ]
  },
  {
   "cell_type": "code",
   "execution_count": 29,
   "id": "8d6d7ab1-4bf0-4ecd-8ce4-dc33e03803b7",
   "metadata": {},
   "outputs": [
    {
     "data": {
      "text/latex": [
       "$\\displaystyle Equation  \\hspace{0.2cm} 0:{a_{0}}^{2} - 1.0\\\\\n",
       "Equation  \\hspace{0.2cm} 1:2 {a_{0}} {a_{2}} - {a_{1}}^{2} + 1.09816608871767\\\\\n",
       "Equation  \\hspace{0.2cm} 2:- 2 {a_{1}} {a_{3}} + {a_{2}}^{2} + 2.92844290324712\\\\\n",
       "Equation  \\hspace{0.2cm} 3:1.95229526883141 - {a_{3}}^{2}$"
      ],
      "text/plain": [
       "<IPython.core.display.Math object>"
      ]
     },
     "execution_count": 29,
     "metadata": {},
     "output_type": "execute_result"
    }
   ],
   "source": [
    "\n",
    "def coefArray (poly, dem):\n",
    "    result = []\n",
    "    n = sp.degree(dem)\n",
    "    for i in range(n+1):\n",
    "        polyCoeff = poly.coeff_monomial(s**i)\n",
    "        demCoeff = dem.coeff_monomial(s**i)\n",
    "        equation = polyCoeff - demCoeff\n",
    "        if( equation  != 0):\n",
    "            result.append(equation)\n",
    "    return result\n",
    "\n",
    "coefarray = coefArray(result, demFinalS) # Calculo los coeficientes\n",
    "\n",
    "## Todo lo demás es sólo con fines de mostrar las ecuaciones de una forma cómoda y linda, no de importancia porque uso estructuras complejas.\n",
    "symbolsFormatted = {symbol: \"{\" + sp.latex(symbol) + \"}\" for symbol in symbols}\n",
    "equations = [f\"Equation  \\hspace{{0.2cm}} {i}:\" + sp.latex(equation, symbol_names=symbolsFormatted) for i, equation in enumerate(coefarray) if equation is not None]\n",
    "Math(\"\\\\\\\\\\n\".join(equations))\n"
   ]
  },
  {
   "cell_type": "markdown",
   "id": "16b0a851-1bd5-4ad7-b38d-375e2f4ff60e",
   "metadata": {},
   "source": [
    "Como este sistema de ecuaciones es bastante difícil, pese a que podemos usar simpy.solve o simpy.nonLinearSolve, tardará mucho.\n",
    "En vez de hacer eso, calcularemos las raices de nuestro polinomio de antemano:\n",
    "\n"
   ]
  },
  {
   "cell_type": "code",
   "execution_count": 30,
   "id": "0d5188d0-7f65-4ac6-82fa-85bfd059f0a7",
   "metadata": {},
   "outputs": [
    {
     "data": {
      "text/latex": [
       "$\\displaystyle -0.626456486340275$"
      ],
      "text/plain": [
       "<IPython.core.display.Math object>"
      ]
     },
     "metadata": {},
     "output_type": "display_data"
    },
    {
     "data": {
      "text/latex": [
       "$\\displaystyle 0.626456486340275$"
      ],
      "text/plain": [
       "<IPython.core.display.Math object>"
      ]
     },
     "metadata": {},
     "output_type": "display_data"
    },
    {
     "data": {
      "text/latex": [
       "$\\displaystyle -0.313228243170137 - 1.02192749104736 i$"
      ],
      "text/plain": [
       "<IPython.core.display.Math object>"
      ]
     },
     "metadata": {},
     "output_type": "display_data"
    },
    {
     "data": {
      "text/latex": [
       "$\\displaystyle -0.313228243170137 + 1.02192749104736 i$"
      ],
      "text/plain": [
       "<IPython.core.display.Math object>"
      ]
     },
     "metadata": {},
     "output_type": "display_data"
    },
    {
     "data": {
      "text/latex": [
       "$\\displaystyle 0.313228243170137 - 1.02192749104736 i$"
      ],
      "text/plain": [
       "<IPython.core.display.Math object>"
      ]
     },
     "metadata": {},
     "output_type": "display_data"
    },
    {
     "data": {
      "text/latex": [
       "$\\displaystyle 0.313228243170137 + 1.02192749104736 i$"
      ],
      "text/plain": [
       "<IPython.core.display.Math object>"
      ]
     },
     "metadata": {},
     "output_type": "display_data"
    }
   ],
   "source": [
    "raices = sp.roots(demFinalS, multiple=True)\n",
    "for raiz in raices:\n",
    "    display(Math(sp.latex(raiz)))"
   ]
  },
  {
   "cell_type": "markdown",
   "id": "bf49ceaa-6fe4-44ba-ae38-02cbaf0de748",
   "metadata": {},
   "source": [
    "Sólo nos preocupan aquellas donde la parte real es menor que 0 para obtener $H(s)$, las obtenemos y multiplicamos es decir:"
   ]
  },
  {
   "cell_type": "code",
   "execution_count": 31,
   "id": "68cbb519-bce8-4301-bf4d-32650f8d6d4a",
   "metadata": {},
   "outputs": [
    {
     "data": {
      "text/latex": [
       "$\\displaystyle -0.626456486340275$"
      ],
      "text/plain": [
       "<IPython.core.display.Math object>"
      ]
     },
     "metadata": {},
     "output_type": "display_data"
    },
    {
     "data": {
      "text/latex": [
       "$\\displaystyle -0.313228243170137 - 1.02192749104736 i$"
      ],
      "text/plain": [
       "<IPython.core.display.Math object>"
      ]
     },
     "metadata": {},
     "output_type": "display_data"
    },
    {
     "data": {
      "text/latex": [
       "$\\displaystyle -0.313228243170137 + 1.02192749104736 i$"
      ],
      "text/plain": [
       "<IPython.core.display.Math object>"
      ]
     },
     "metadata": {},
     "output_type": "display_data"
    }
   ],
   "source": [
    "poly = []\n",
    "for raiz in raices:\n",
    "    if (sp.re(raiz) < 0):\n",
    "        poly.append(s - sp.N(raiz,6))\n",
    "        display(Math(sp.latex(raiz)))\n"
   ]
  },
  {
   "cell_type": "markdown",
   "id": "33f1d4d3-542d-40cc-a01f-95620add7a88",
   "metadata": {},
   "source": [
    "Para armar nuestras $SOS$ vamos a hacer dos polinomios, uno con las complejas conjugadas y una con la raiz real, quedando:\n",
    "\n",
    "    "
   ]
  },
  {
   "cell_type": "code",
   "execution_count": 32,
   "id": "bac9af59-7aee-4896-b067-63bc0e336950",
   "metadata": {},
   "outputs": [
    {
     "data": {
      "text/latex": [
       "$\\displaystyle \\operatorname{Poly}{\\left( s^{2} + 0.626456 s + 1.14245, s, domain=\\mathtt{\\text{EX}} \\right)}$"
      ],
      "text/plain": [
       "<IPython.core.display.Math object>"
      ]
     },
     "metadata": {},
     "output_type": "display_data"
    },
    {
     "data": {
      "text/latex": [
       "$\\displaystyle \\operatorname{Poly}{\\left( 1.0 s + 0.626456, s, domain=\\mathbb{R} \\right)}$"
      ],
      "text/plain": [
       "<IPython.core.display.Math object>"
      ]
     },
     "metadata": {},
     "output_type": "display_data"
    }
   ],
   "source": [
    "SOS1 = sp.poly(poly[1] * poly[2])\n",
    "SOS2 = sp.poly(poly[0])\n",
    "\n",
    "display(Math(sp.latex(SOS1)))\n",
    "display(Math(sp.latex(SOS2)))"
   ]
  },
  {
   "cell_type": "markdown",
   "id": "bcc93d99-de7f-4e29-b0bf-edfd87897371",
   "metadata": {},
   "source": [
    "Finalmente nuestra transferencia será:"
   ]
  },
  {
   "cell_type": "code",
   "execution_count": 33,
   "id": "ab65bb2f-15e6-4d60-bf7b-ed92e5e73a93",
   "metadata": {},
   "outputs": [
    {
     "data": {
      "text/latex": [
       "$\\displaystyle H(s) =\\frac{0.626456}{1.0 s + 0.626456} \\frac{1.14245}{s^{2} + 0.626456 s + 1.14245}$"
      ],
      "text/plain": [
       "<IPython.core.display.Math object>"
      ]
     },
     "metadata": {},
     "output_type": "display_data"
    }
   ],
   "source": [
    "w_0 = SOS1.EC()\n",
    "w_1 = SOS2.EC()\n",
    "H = sp.Mul(w_1/SOS2,w_0/SOS1, evaluate=False)\n",
    "display(Math(\"H(s) =\" + sp.latex(H)))"
   ]
  },
  {
   "cell_type": "markdown",
   "id": "47c3e324-4c63-4099-b168-e81e1fc1bc05",
   "metadata": {},
   "source": [
    "Aplicamos el nucleo de transformación:\n",
    "$$s=Q\\cdot\\frac{s^2+1}{s}$$\n",
    "\n",
    "En realidad... \n",
    "$$s=Q\\cdot\\frac{s^2+w_{0_{pasabanda}}}{s}$$\n"
   ]
  },
  {
   "cell_type": "code",
   "execution_count": 34,
   "id": "755fb9c5-9ef7-4725-8c9a-aa9284e5f099",
   "metadata": {},
   "outputs": [
    {
     "data": {
      "text/latex": [
       "$\\displaystyle \\frac{0.626456 s}{1.0 Q \\left(s^{2} + 1\\right) + 0.626456 s} \\frac{1.14245 s^{2}}{Q^{2} \\left(s^{2} + 1\\right)^{2} + 0.626456 Q s \\left(s^{2} + 1\\right) + 1.14245 s^{2}}$"
      ],
      "text/plain": [
       "(0.626456*s/(1.0*Q*(s**2 + 1) + 0.626456*s))*(1.14245*s**2/(Q**2*(s**2 + 1)**2 + 0.626456*Q*s*(s**2 + 1) + 1.14245*s**2))"
      ]
     },
     "execution_count": 34,
     "metadata": {},
     "output_type": "execute_result"
    }
   ],
   "source": [
    "Q = sp.symbols('Q')\n",
    "B_1 = w_0/SOS1\n",
    "B_2 = w_1/SOS2\n",
    "\n",
    "B_1_pasabanda = sp.simplify(B_1.subs({s:Q*(s**2+1)/s}))\n",
    "B_2_pasabanda = sp.simplify(B_2.subs({s:Q*(s**2+1)/s}))\n",
    "\n",
    "\n",
    "H_2 = sp.Mul( B_2_pasabanda,B_1_pasabanda, evaluate=False)\n",
    "H_2\n"
   ]
  },
  {
   "cell_type": "markdown",
   "id": "126f8c84-524f-4a27-8ef1-757183da5131",
   "metadata": {},
   "source": [
    "Como Q = 5 si reemplzaamos:"
   ]
  },
  {
   "cell_type": "code",
   "execution_count": 35,
   "id": "36554ff6-19b6-4ac6-8a59-ed1362194471",
   "metadata": {},
   "outputs": [
    {
     "data": {
      "text/latex": [
       "$\\displaystyle \\frac{0.626456 s}{5.0 s^{2} + 0.626456 s + 5.0} \\frac{1.14245 s^{2}}{25.0 s^{4} + 3.13228 s^{3} + 51.1424 s^{2} + 3.13228 s + 25.0}$"
      ],
      "text/plain": [
       "(0.626456*s/(5.0*s**2 + 0.626456*s + 5.0))*(1.14245*s**2/(25.0*s**4 + 3.13228*s**3 + 51.1424*s**2 + 3.13228*s + 25.0))"
      ]
     },
     "execution_count": 35,
     "metadata": {},
     "output_type": "execute_result"
    }
   ],
   "source": [
    "B_1_pasabanda_Q = sp.simplify(B_1_pasabanda.subs({Q:5}))\n",
    "B_2_pasabanda_Q = sp.simplify(B_2_pasabanda.subs({Q:5}))\n",
    "\n",
    "H_2 = sp.Mul( B_2_pasabanda_Q,B_1_pasabanda_Q, evaluate=False)\n",
    "H_2"
   ]
  },
  {
   "cell_type": "markdown",
   "id": "af771c17-6039-4d5e-992f-5ceac293bfdb",
   "metadata": {},
   "source": [
    "Divido por el termino independiente arriba y abaajo para obtener $H(s)$ en su forma mónica"
   ]
  },
  {
   "cell_type": "code",
   "execution_count": 48,
   "id": "21f42499-914f-4673-a4b8-9ea71b6f8121",
   "metadata": {},
   "outputs": [
    {
     "data": {
      "text/latex": [
       "$\\displaystyle H(s)=\\frac{0.0456979 s^{2}}{1.0 s^{4} + 0.125291 s^{3} + 2.0457 s^{2} + 0.125291 s + 1.0}\\cdot\\frac{0.125291 s}{1.0 s^{2} + 0.125291 s + 1.0}$"
      ],
      "text/plain": [
       "<IPython.core.display.Math object>"
      ]
     },
     "metadata": {},
     "output_type": "display_data"
    }
   ],
   "source": [
    "n,d = sp.fraction(B_1_pasabanda_Q)\n",
    "n2,d2 = sp.fraction(B_2_pasabanda_Q)\n",
    "\n",
    "w_0 = sp.poly(d).EC()\n",
    "w_1 = sp.poly(d2).EC()\n",
    "\n",
    "SOS1 = sp.Mul( n/w_0 , 1/(d/w_0), evaluate=False)\n",
    "SOS2 = sp.Mul( n2/w_1 , 1/(d2/w_1), evaluate=False)\n",
    "\n",
    "display(Math(\"H(s)=\" + sp.latex(SOS1) +\"\\cdot\" + sp.latex(SOS2)))\n",
    "\n",
    "H = sp.expand(SOS1 * SOS2)\n"
   ]
  },
  {
   "cell_type": "markdown",
   "id": "9f60285a-fac3-439f-a775-15cce8414bf9",
   "metadata": {},
   "source": [
    "Para implementarlo hacemos 3 SOS de orden 2:"
   ]
  },
  {
   "cell_type": "code",
   "execution_count": 37,
   "id": "305c63cc-b271-448b-8f6b-a9c4e6298f81",
   "metadata": {},
   "outputs": [
    {
     "data": {
      "text/latex": [
       "$\\displaystyle \\frac{0.00572555 s^{3}}{1.0 s^{6} + 0.250583 s^{5} + 3.0614 s^{4} + 0.506891 s^{3} + 3.0614 s^{2} + 0.250583 s + 1.0}$"
      ],
      "text/plain": [
       "0.00572555*s**3/(1.0*s**6 + 0.250583*s**5 + 3.0614*s**4 + 0.506891*s**3 + 3.0614*s**2 + 0.250583*s + 1.0)"
      ]
     },
     "execution_count": 37,
     "metadata": {},
     "output_type": "execute_result"
    }
   ],
   "source": [
    "H = sp.expand(SOS1 * SOS2)\n",
    "H"
   ]
  },
  {
   "cell_type": "code",
   "execution_count": 72,
   "id": "da1c7f16-c0cf-4352-a113-a463444787f9",
   "metadata": {},
   "outputs": [
    {
     "data": {
      "text/latex": [
       "$\\displaystyle H(s) = K \\cdot\\frac{0.125 s}{s^{2} + 0.125 s + 1.0}\\frac{0.069 s}{s^{2} + 0.069 s + 1.23}\\frac{0.0563 s}{s^{2} + 0.0563 s + 0.815}$"
      ],
      "text/plain": [
       "<IPython.core.display.Math object>"
      ]
     },
     "metadata": {},
     "output_type": "display_data"
    }
   ],
   "source": [
    "s = sp.symbols('s')\n",
    "n,d = sp.fraction(H)\n",
    "dem = sp.poly(d)\n",
    "raices = sp.roots(dem, multiple=True)\n",
    "\n",
    "poly1 = sp.poly( (s - raices[0]) * (s - raices[1]) )\n",
    "poly2 = sp.poly( (s - raices[2]) * (s - raices[3]) )\n",
    "poly3 = sp.poly( (s - raices[4]) * (s - raices[5]) )\n",
    "\n",
    "w_0 = poly1.coeff_monomial(s)\n",
    "w_1 = poly2.coeff_monomial(s)\n",
    "w_2 = poly3.coeff_monomial(s)\n",
    "\n",
    "cutePoly1 = sp.N(w_0*s/poly1,3)\n",
    "cutePoly2 = sp.N(w_1*s/poly2,3)\n",
    "cutePoly3 = sp.N(w_2*s/poly3,3)\n",
    "\n",
    "display(Math(\"H(s) = K \\cdot\" + sp.latex(cutePoly1) + sp.latex(cutePoly2) + sp.latex(cutePoly3)))"
   ]
  },
  {
   "cell_type": "markdown",
   "id": "7e4aec5c-b1e1-4032-842e-a6cac4292b22",
   "metadata": {},
   "source": [
    "Como $0.13 \\cdot 0.0069 \\cdot 0.056$ no llega a ser 0.0057, necesitamos el coeficiente K para llegar a esa ganancia:"
   ]
  },
  {
   "cell_type": "code",
   "execution_count": 74,
   "id": "ebed76bf-57ab-4824-a9c9-07e941d41f18",
   "metadata": {},
   "outputs": [
    {
     "data": {
      "text/latex": [
       "$\\displaystyle K = \\frac{0.00572555}{0.000486618091280168} =11.766006030614 \\ veces$"
      ],
      "text/plain": [
       "<IPython.core.display.Math object>"
      ]
     },
     "metadata": {},
     "output_type": "display_data"
    }
   ],
   "source": [
    "n,d = sp.fraction(H)\n",
    "# Obtengo el numerador y le saco el s^3\n",
    "n = n / s**3\n",
    "# K es igual al numerador sobre la ganancia.\n",
    "K = n / (w_0*w_1*w_2)\n",
    "K\n",
    "display(Math(\"K = \\\\frac{\" + sp.latex(n)+ \"}\" + \"{\" + sp.latex(w_0*w_1*w_2) + \"} =\" + sp.latex(K)+ \" \\\\ veces\" ))"
   ]
  },
  {
   "cell_type": "code",
   "execution_count": 75,
   "id": "b70c6677-7c04-4b0b-906a-a0ad31819b18",
   "metadata": {},
   "outputs": [
    {
     "data": {
      "text/latex": [
       "$\\displaystyle H(s) = 11.766 \\cdot\\frac{0.125 s}{s^{2} + 0.125 s + 1.0}\\frac{0.069 s}{s^{2} + 0.069 s + 1.23}\\frac{0.0563 s}{s^{2} + 0.0563 s + 0.815}$"
      ],
      "text/plain": [
       "<IPython.core.display.Math object>"
      ]
     },
     "metadata": {},
     "output_type": "display_data"
    }
   ],
   "source": [
    "display(Math(f\"H(s) = {sp.N(K,5)} \\cdot\" + sp.latex(cutePoly1) + sp.latex(cutePoly2) + sp.latex(cutePoly3)))"
   ]
  },
  {
   "cell_type": "markdown",
   "id": "80721a94",
   "metadata": {},
   "source": [
    "Para implementar el filtro voy a usar un resistor con un capacitor e inductor en paralelo, como vimos en clase. Me género un poco de dudas por qué ése circuito en específico, así que consulte a mis compañeros y logré entender que era bastante conveniente. "
   ]
  },
  {
   "cell_type": "code",
   "execution_count": 83,
   "id": "c33d902b",
   "metadata": {},
   "outputs": [
    {
     "data": {
      "image/png": "[encoded data removed]",
      "image/svg+xml": [
       "<?xml version=\"1.0\" encoding=\"utf-8\" standalone=\"no\"?>\n",
       "<!DOCTYPE svg PUBLIC \"-//W3C//DTD SVG 1.1//EN\"\n",
       "  \"http://www.w3.org/Graphics/SVG/1.1/DTD/svg11.dtd\">\n",
       "<svg height=\"136.9683pt\" version=\"1.1\" viewBox=\"0 0 220.0711 136.9683\" width=\"220.0711pt\" xmlns=\"http://www.w3.org/2000/svg\" xmlns:xlink=\"http://www.w3.org/1999/xlink\">\n",
       " <metadata>\n",
       "  <rdf:RDF xmlns:cc=\"http://creativecommons.org/ns#\" xmlns:dc=\"http://purl.org/dc/elements/1.1/\" xmlns:rdf=\"http://www.w3.org/1999/02/22-rdf-syntax-ns#\">\n",
       "   <cc:Work>\n",
       "    <dc:type rdf:resource=\"http://purl.org/dc/dcmitype/StillImage\"/>\n",
       "    <dc:date>2021-06-14T12:19:23.307686</dc:date>\n",
       "    <dc:format>image/svg+xml</dc:format>\n",
       "    <dc:creator>\n",
       "     <cc:Agent>\n",
       "      <dc:title>Matplotlib v3.4.2, https://matplotlib.org/</dc:title>\n",
       "     </cc:Agent>\n",
       "    </dc:creator>\n",
       "   </cc:Work>\n",
       "  </rdf:RDF>\n",
       " </metadata>\n",
       " <defs>\n",
       "  <style type=\"text/css\">*{stroke-linecap:butt;stroke-linejoin:round;}</style>\n",
       " </defs>\n",
       " <g id=\"figure_1\">\n",
       "  <g id=\"patch_1\">\n",
       "   <path d=\"M 0 136.9683 \n",
       "L 220.0711 136.9683 \n",
       "L 220.0711 0 \n",
       "L 0 0 \n",
       "z\n",
       "\" style=\"fill:none;\"/>\n",
       "  </g>\n",
       "  <g id=\"axes_1\">\n",
       "   <g id=\"patch_2\">\n",
       "    <path clip-path=\"url(#pad53b2fcc4)\" d=\"M 193.86 88.4583 \n",
       "C 192.845936 88.4583 191.872368 88.861565 191.155317 89.578617 \n",
       "C 190.438265 90.295668 190.035 91.269236 190.035 92.2833 \n",
       "C 190.035 93.297364 190.438265 94.270932 191.155317 94.987983 \n",
       "C 191.872368 95.705035 192.845936 96.1083 193.86 96.1083 \n",
       "\" style=\"fill:none;stroke:#000000;stroke-linejoin:miter;stroke-width:2;\"/>\n",
       "   </g>\n",
       "   <g id=\"patch_3\">\n",
       "    <path clip-path=\"url(#pad53b2fcc4)\" d=\"M 193.86 80.8083 \n",
       "C 192.845936 80.8083 191.872368 81.211565 191.155317 81.928617 \n",
       "C 190.438265 82.645668 190.035 83.619236 190.035 84.6333 \n",
       "C 190.035 85.647364 190.438265 86.620932 191.155317 87.337983 \n",
       "C 191.872368 88.055035 192.845936 88.4583 193.86 88.4583 \n",
       "\" style=\"fill:none;stroke:#000000;stroke-linejoin:miter;stroke-width:2;\"/>\n",
       "   </g>\n",
       "   <g id=\"patch_4\">\n",
       "    <path clip-path=\"url(#pad53b2fcc4)\" d=\"M 193.86 73.1583 \n",
       "C 192.845936 73.1583 191.872368 73.561565 191.155317 74.278617 \n",
       "C 190.438265 74.995668 190.035 75.969236 190.035 76.9833 \n",
       "C 190.035 77.997364 190.438265 78.970932 191.155317 79.687983 \n",
       "C 191.872368 80.405035 192.845936 80.8083 193.86 80.8083 \n",
       "\" style=\"fill:none;stroke:#000000;stroke-linejoin:miter;stroke-width:2;\"/>\n",
       "   </g>\n",
       "   <g id=\"patch_5\">\n",
       "    <path clip-path=\"url(#pad53b2fcc4)\" d=\"M 193.86 65.5083 \n",
       "C 192.845936 65.5083 191.872368 65.911565 191.155317 66.628617 \n",
       "C 190.438265 67.345668 190.035 68.319236 190.035 69.3333 \n",
       "C 190.035 70.347364 190.438265 71.320932 191.155317 72.037983 \n",
       "C 191.872368 72.755035 192.845936 73.1583 193.86 73.1583 \n",
       "\" style=\"fill:none;stroke:#000000;stroke-linejoin:miter;stroke-width:2;\"/>\n",
       "   </g>\n",
       "   <g id=\"line2d_1\">\n",
       "    <path clip-path=\"url(#pad53b2fcc4)\" d=\"M 10.26 34.9083 \n",
       "L 40.86 34.9083 \n",
       "L 43.41 27.2583 \n",
       "L 48.51 42.5583 \n",
       "L 53.61 27.2583 \n",
       "L 58.71 42.5583 \n",
       "L 63.81 27.2583 \n",
       "L 68.91 42.5583 \n",
       "L 71.46 34.9083 \n",
       "L 102.06 34.9083 \n",
       "\" style=\"fill:none;stroke:#000000;stroke-linecap:round;stroke-width:2;\"/>\n",
       "   </g>\n",
       "   <g id=\"line2d_2\">\n",
       "    <path clip-path=\"url(#pad53b2fcc4)\" d=\"M 102.06 34.9083 \n",
       "L 102.06 78.0543 \n",
       "M 109.71 78.0543 \n",
       "L 94.41 78.0543 \n",
       "M 109.71 83.5623 \n",
       "L 94.41 83.5623 \n",
       "M 102.06 83.5623 \n",
       "L 102.06 126.7083 \n",
       "\" style=\"fill:none;stroke:#000000;stroke-linecap:round;stroke-width:2;\"/>\n",
       "   </g>\n",
       "   <g id=\"line2d_3\">\n",
       "    <path clip-path=\"url(#pad53b2fcc4)\" d=\"M 102.06 126.7083 \n",
       "L 147.96 126.7083 \n",
       "L 193.86 126.7083 \n",
       "\" style=\"fill:none;stroke:#000000;stroke-linecap:round;stroke-width:2;\"/>\n",
       "   </g>\n",
       "   <g id=\"line2d_4\">\n",
       "    <path clip-path=\"url(#pad53b2fcc4)\" d=\"M 193.86 126.7083 \n",
       "L 193.86 96.1083 \n",
       "M 193.86 65.5083 \n",
       "L 193.86 34.9083 \n",
       "\" style=\"fill:none;stroke:#000000;stroke-linecap:round;stroke-width:2;\"/>\n",
       "   </g>\n",
       "   <g id=\"line2d_5\">\n",
       "    <path clip-path=\"url(#pad53b2fcc4)\" d=\"M 193.86 34.9083 \n",
       "L 147.96 34.9083 \n",
       "L 102.06 34.9083 \n",
       "\" style=\"fill:none;stroke:#000000;stroke-linecap:round;stroke-width:2;\"/>\n",
       "   </g>\n",
       "   <g id=\"line2d_6\">\n",
       "    <path clip-path=\"url(#pad53b2fcc4)\" d=\"M 102.06 126.7083 \n",
       "L 56.16 126.7083 \n",
       "L 10.26 126.7083 \n",
       "\" style=\"fill:none;stroke:#000000;stroke-linecap:round;stroke-width:2;\"/>\n",
       "   </g>\n",
       "   <g id=\"text_1\">\n",
       "    <!-- $R$ -->\n",
       "    <g transform=\"translate(51.26 21.286738)scale(0.14 -0.14)\">\n",
       "     <defs>\n",
       "      <path d=\"M 1613 4147 \n",
       "L 1294 2491 \n",
       "L 2106 2491 \n",
       "Q 2584 2491 2879 2755 \n",
       "Q 3175 3019 3175 3444 \n",
       "Q 3175 3784 2976 3965 \n",
       "Q 2778 4147 2406 4147 \n",
       "L 1613 4147 \n",
       "z\n",
       "M 2772 2241 \n",
       "Q 2972 2194 3105 2009 \n",
       "Q 3238 1825 3413 1275 \n",
       "L 3809 0 \n",
       "L 3144 0 \n",
       "L 2778 1197 \n",
       "Q 2638 1659 2453 1815 \n",
       "Q 2269 1972 1888 1972 \n",
       "L 1191 1972 \n",
       "L 806 0 \n",
       "L 172 0 \n",
       "L 1081 4666 \n",
       "L 2503 4666 \n",
       "Q 3150 4666 3495 4373 \n",
       "Q 3841 4081 3841 3531 \n",
       "Q 3841 3044 3547 2687 \n",
       "Q 3253 2331 2772 2241 \n",
       "z\n",
       "\" id=\"DejaVuSans-Oblique-52\" transform=\"scale(0.015625)\"/>\n",
       "     </defs>\n",
       "     <use transform=\"translate(0 0.09375)\" xlink:href=\"#DejaVuSans-Oblique-52\"/>\n",
       "    </g>\n",
       "   </g>\n",
       "   <g id=\"text_2\">\n",
       "    <!-- $C$ -->\n",
       "    <g transform=\"translate(112.77 84.671425)scale(0.14 -0.14)\">\n",
       "     <defs>\n",
       "      <path d=\"M 4447 4306 \n",
       "L 4319 3641 \n",
       "Q 4019 3944 3683 4091 \n",
       "Q 3347 4238 2956 4238 \n",
       "Q 2422 4238 2017 3981 \n",
       "Q 1613 3725 1319 3200 \n",
       "Q 1131 2863 1032 2486 \n",
       "Q 934 2109 934 1728 \n",
       "Q 934 1091 1264 756 \n",
       "Q 1594 422 2222 422 \n",
       "Q 2656 422 3056 561 \n",
       "Q 3456 700 3834 978 \n",
       "L 3688 231 \n",
       "Q 3316 72 2936 -9 \n",
       "Q 2556 -91 2175 -91 \n",
       "Q 1278 -91 773 396 \n",
       "Q 269 884 269 1753 \n",
       "Q 269 2309 461 2846 \n",
       "Q 653 3384 1013 3828 \n",
       "Q 1394 4300 1883 4525 \n",
       "Q 2372 4750 3022 4750 \n",
       "Q 3422 4750 3780 4639 \n",
       "Q 4138 4528 4447 4306 \n",
       "z\n",
       "\" id=\"DejaVuSans-Oblique-43\" transform=\"scale(0.015625)\"/>\n",
       "     </defs>\n",
       "     <use transform=\"translate(0 0.78125)\" xlink:href=\"#DejaVuSans-Oblique-43\"/>\n",
       "    </g>\n",
       "   </g>\n",
       "   <g id=\"text_3\">\n",
       "    <!-- $L$ -->\n",
       "    <g transform=\"translate(196.92 84.671425)scale(0.14 -0.14)\">\n",
       "     <defs>\n",
       "      <path d=\"M 1075 4666 \n",
       "L 1709 4666 \n",
       "L 909 525 \n",
       "L 3181 525 \n",
       "L 3078 0 \n",
       "L 172 0 \n",
       "L 1075 4666 \n",
       "z\n",
       "\" id=\"DejaVuSans-Oblique-4c\" transform=\"scale(0.015625)\"/>\n",
       "     </defs>\n",
       "     <use transform=\"translate(0 0.09375)\" xlink:href=\"#DejaVuSans-Oblique-4c\"/>\n",
       "    </g>\n",
       "   </g>\n",
       "  </g>\n",
       " </g>\n",
       " <defs>\n",
       "  <clipPath id=\"pad53b2fcc4\">\n",
       "   <rect height=\"122.5683\" width=\"205.6711\" x=\"7.2\" y=\"7.2\"/>\n",
       "  </clipPath>\n",
       " </defs>\n",
       "</svg>\n"
      ],
      "text/plain": [
       "<schemdraw.backends.mpl.Figure object at 0x7f6d778f9af0>"
      ]
     },
     "execution_count": 83,
     "metadata": {},
     "output_type": "execute_result"
    }
   ],
   "source": [
    "d = schemdraw.Drawing()\n",
    "R1 = d.add(elm.Resistor().label('$R$'))\n",
    "C1 = d.add(elm.Capacitor().down().label('$C$', loc='bottom'))\n",
    "d += elm.Line().right()\n",
    "R1 = d.add(elm.Inductor().up().label('$L$', loc='bottom'))\n",
    "d.add(elm.Line().left())\n",
    "line = d.add(elm.Line().left().at(C1.end))\n",
    "d.draw()"
   ]
  },
  {
   "cell_type": "markdown",
   "id": "2660c6c1",
   "metadata": {},
   "source": [
    "La transferencia de este circuito en su forma mónica se puede demostrar fácilmente que es:\n",
    "\n",
    "$$H(s) = \\frac{\\frac{Z_1 \\cdot Z_2}{Z_1+Z_2}}{Z_0 + \\frac{Z_1 \\cdot Z_2}{Z_1+Z_2}}$$\n",
    "\n",
    "~Vamos a usar sympy para calcularla, así luego si tenemos otro circuito similar, por ejemplo TP2 EJ1, podemos calcularla automáticamente sólo cambiando las Z.~ Dada la falta de tiempo sólo vamos a dar el resultado:\n",
    "\n",
    "$$H(S)= \\frac{\\frac{S}{CR}}{S^2+\\frac{S}{CR}+\\frac{1}{LC}}$$"
   ]
  },
  {
   "cell_type": "markdown",
   "id": "cd364551",
   "metadata": {},
   "source": [
    "C aparece en los 3 componentes, es un grado de libertad extra que no necesito en este caso, así que lo desaparezco diciendo:\n",
    "\n",
    "$$ C = 1F$$\n",
    "\n",
    "$$H(S)= \\frac{\\frac{S}{R}}{S^2+\\frac{S}{R}+\\frac{1}{L}}$$\n",
    "\n",
    "De esa forma vemos rápidamente que:"
   ]
  },
  {
   "cell_type": "code",
   "execution_count": 94,
   "id": "be7d4994",
   "metadata": {
    "hide_input": true
   },
   "outputs": [
    {
     "data": {
      "text/latex": [
       "$\\displaystyle SOS_1 = \\frac{0.125 s}{s^{2} + 0.125 s + 1.0}$"
      ],
      "text/plain": [
       "<IPython.core.display.Math object>"
      ]
     },
     "metadata": {},
     "output_type": "display_data"
    }
   ],
   "source": [
    "display(  Math( \"SOS_1 = \" +sp.latex(cutePoly1)))"
   ]
  },
  {
   "cell_type": "markdown",
   "id": "4de2c575",
   "metadata": {},
   "source": [
    "$$L = 1Hy$$\n",
    "$$R = \\frac{1}{0.125\\Omega}$$\n",
    "$$R = 8\\Omega$$"
   ]
  },
  {
   "cell_type": "code",
   "execution_count": 95,
   "id": "f09ba4a4",
   "metadata": {
    "hide_input": true
   },
   "outputs": [
    {
     "data": {
      "text/latex": [
       "$\\displaystyle SOS_2 = \\frac{0.069 s}{s^{2} + 0.069 s + 1.23}$"
      ],
      "text/plain": [
       "<IPython.core.display.Math object>"
      ]
     },
     "metadata": {},
     "output_type": "display_data"
    }
   ],
   "source": [
    "display(  Math( \"SOS_2 = \" +sp.latex(cutePoly2)))"
   ]
  },
  {
   "cell_type": "markdown",
   "id": "e7b66692",
   "metadata": {},
   "source": [
    "$$L = \\frac{1}{1.23Hy}$$\n",
    "$$L = 0.813Hy$$\n",
    "$$R = \\frac{1}{0.069\\Omega}$$\n",
    "$$R = 14.492\\Omega$$"
   ]
  },
  {
   "cell_type": "code",
   "execution_count": 96,
   "id": "d17047df",
   "metadata": {
    "hide_input": true
   },
   "outputs": [
    {
     "data": {
      "text/latex": [
       "$\\displaystyle SOS_3 = \\frac{0.0563 s}{s^{2} + 0.0563 s + 0.815}$"
      ],
      "text/plain": [
       "<IPython.core.display.Math object>"
      ]
     },
     "metadata": {},
     "output_type": "display_data"
    }
   ],
   "source": [
    "display(  Math( \"SOS_3 = \" +sp.latex(cutePoly3)))"
   ]
  },
  {
   "cell_type": "markdown",
   "id": "a7fda344",
   "metadata": {},
   "source": [
    "$$L = \\frac{1}{0.813Hy}$$\n",
    "$$L = 1.23Hy$$\n",
    "$$R = \\frac{1}{0.0563\\Omega}$$\n",
    "$$R = 17.762\\Omega$$"
   ]
  },
  {
   "cell_type": "markdown",
   "id": "c274b218",
   "metadata": {},
   "source": [
    "![](./Simulaciones/Netlist.png)"
   ]
  },
  {
   "cell_type": "markdown",
   "id": "3affa0b5",
   "metadata": {},
   "source": [
    "![](./Simulaciones/TareaSemanal3Grafico.jpg)"
   ]
  },
  {
   "cell_type": "markdown",
   "id": "a9449e5f",
   "metadata": {},
   "source": [
    "Cabe destacar que falta contemplar la ganancia de 11.766 de la que hablaba anteriormente para que el gráfico llegue a 0dB, es por eso que esta a -22dB. Se puede arreglar añadiendo un amplificador más con una resistencia a la salida.\n",
    "\n",
    "Todo muy lindo pero ahora tenemos que desnormalizar los valores con la norma que usamos en un principio:\n",
    "- $$\\Omega_w = 2\\pi \\cdot 22KHz $$\n",
    "Además tenemos que desnormalizar también por una norma de impedancia, que decido:\n",
    "- $$\\Omega_z = 1K\\Omega $$\n",
    "\n"
   ]
  },
  {
   "cell_type": "code",
   "execution_count": 124,
   "id": "460f7177",
   "metadata": {},
   "outputs": [
    {
     "data": {
      "text/latex": [
       "$\\displaystyle  R_1=8000\\Omega ; R_2=14492.0\\Omega ; R_3=17762.0\\Omega$"
      ],
      "text/plain": [
       "<IPython.core.display.Math object>"
      ]
     },
     "metadata": {},
     "output_type": "display_data"
    },
    {
     "data": {
      "text/latex": [
       "$\\displaystyle  L_1=0.007234528959819426Hy ; L_2=0.005881672044333193Hy ; L_3=0.008898470620577893Hy$"
      ],
      "text/plain": [
       "<IPython.core.display.Math object>"
      ]
     },
     "metadata": {},
     "output_type": "display_data"
    },
    {
     "data": {
      "text/latex": [
       "$\\displaystyle  C=7.234528959819426e-09F$"
      ],
      "text/plain": [
       "<IPython.core.display.Math object>"
      ]
     },
     "metadata": {},
     "output_type": "display_data"
    }
   ],
   "source": [
    "# La d es de desnormalizado\n",
    "Ω_w = 2 * 3.1415 * (22*10**3)\n",
    "Ω_z = 1 * (10 **3)\n",
    "\n",
    "# Inductores\n",
    "L1 = 1\n",
    "L2 = 0.813\n",
    "L3 = 1.23\n",
    "\n",
    "# Resistencias\n",
    "R1 = 8\n",
    "R2 = 14.492\n",
    "R3 = 17.762\n",
    "\n",
    "# Los capacitores son todos iguales\n",
    "C = 1\n",
    "Cd = C/(Ω_w*Ω_z)\n",
    "\n",
    "# Inductores\n",
    "Ld1 = L1 * (Ω_z / Ω_w)\n",
    "Ld2 = L2 * (Ω_z / Ω_w)\n",
    "Ld3 = L3 * (Ω_z / Ω_w)\n",
    "\n",
    "# Resistencia\n",
    "Rd1 = R1 * Ω_z\n",
    "Rd2 = R2 * Ω_z\n",
    "Rd3 = R3 * Ω_z\n",
    "\n",
    "display(Math(f\" R_1={Rd1}\\\\Omega ; R_2={Rd2}\\\\Omega ; R_3={Rd3}\\\\Omega\"))\n",
    "display(Math(f\" L_1={Ld1}Hy ; L_2={Ld2}Hy ; L_3={Ld3}Hy\"))\n",
    "display(Math(f\" C={Cd}F\"))"
   ]
  },
  {
   "cell_type": "markdown",
   "id": "32391160",
   "metadata": {},
   "source": [
    "![](./Simulaciones/desnormalizado.png)"
   ]
  },
  {
   "cell_type": "markdown",
   "id": "03d7bc6d",
   "metadata": {},
   "source": [
    "Para activarlo con la celda activa, es tan simple como cambiar cada inductor por la celda correspondiente. Aunque poner eso en el LTSpice es bastante difícil y no estoy seguro de cuál tiene que ser el valor de los componentes para conseguir obtener el valor del inductor deseado. Según entiendo en esa celda:\n",
    "\n",
    "$$L = C \\cdot R^2$$\n",
    "\n",
    "Pero cuando probe reemplazar el primer inductor por la celda de la siguiente forma:"
   ]
  },
  {
   "cell_type": "code",
   "execution_count": null,
   "id": "addd0e9d",
   "metadata": {},
   "outputs": [],
   "source": [
    "![](./Simulaciones/G.png)"
   ]
  },
  {
   "cell_type": "code",
   "execution_count": null,
   "id": "352e9e87",
   "metadata": {},
   "outputs": [],
   "source": []
  }
 ],
 "metadata": {
  "kernelspec": {
   "display_name": "Python 3",
   "language": "python",
   "name": "python3"
  },
  "language_info": {
   "codemirror_mode": {
    "name": "ipython",
    "version": 3
   },
   "file_extension": ".py",
   "mimetype": "text/x-python",
   "name": "python",
   "nbconvert_exporter": "python",
   "pygments_lexer": "ipython3",
   "version": "3.8.5"
  },
  "latex_envs": {
   "LaTeX_envs_menu_present": true,
   "autoclose": false,
   "autocomplete": true,
   "bibliofile": "biblio.bib",
   "cite_by": "apalike",
   "current_citInitial": 1,
   "eqLabelWithNumbers": true,
   "eqNumInitial": 1,
   "hotkeys": {
    "equation": "Ctrl-E",
    "itemize": "Ctrl-I"
   },
   "labels_anchors": false,
   "latex_user_defs": false,
   "report_style_numbering": false,
   "user_envs_cfg": false
  }
 },
 "nbformat": 4,
 "nbformat_minor": 5
}
