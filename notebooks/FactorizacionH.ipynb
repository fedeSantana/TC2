{
 "cells": [
  {
   "cell_type": "code",
   "execution_count": 1,
   "id": "6acd2669",
   "metadata": {
    "tags": []
   },
   "outputs": [],
   "source": [
    "import sympy as sp\n",
    "from IPython.display import display, Math\n",
    "from generatePoly import generatePoly"
   ]
  },
  {
   "cell_type": "code",
   "execution_count": 2,
   "id": "bfed494f",
   "metadata": {
    "tags": []
   },
   "outputs": [],
   "source": [
    "s = sp.symbols('s') # Creamos las variables que usaremos en nuestras funciones\n",
    "e = sp.symbols('e', real=True, positive=True) # Si usamos constantes también las creamos\n",
    "H = sp.symbols('H', cls=sp.Function) # Creamos ls funciones que usaremos."
   ]
  },
  {
   "cell_type": "code",
   "execution_count": 3,
   "id": "a9df4e92-ac5b-4bdc-a0e0-859ef28192b8",
   "metadata": {},
   "outputs": [],
   "source": [
    "def factorizeLaplace (polynomic, variable, constants = 0, allResults = False):\n",
    "    # Validaciones\n",
    "    if (type(polynomic) != sp.polys.polytools.Poly ):\n",
    "        print(\"Polynomic have to be a sympy polynomic, reference: https://docs.sympy.org/latest/modules/polys/reference.html\")\n",
    "    if (type(variable) != sp.core.symbol.Symbol):\n",
    "        print(\"Variable have to ve a sympy symbol, reference: https://docs.sympy.org/latest/modules/core.html?highlight=symbol#module-sympy.core.symbol\")\n",
    "    if (constants != 0):\n",
    "        try:\n",
    "            some_object_iterator = iter(constants)\n",
    "        except TypeError as te:\n",
    "            print(constants, 'have to be an array')\n",
    "            return \"error\"\n",
    "        for constant in constants:\n",
    "            if (type(constant) != sp.core.symbol.Symbol and constant != 0):\n",
    "                print(\"each constant of constants have to ve a sympy symbol, reference: https://docs.sympy.org/latest/modules/core.html?highlight=symbol#module-sympy.core.symbol\")\n",
    "    # Acá empieza\n",
    "    # El grado del polinomio debe ser par, verifico eso y calculo el n que será el grado de H(s):\n",
    "        \n",
    "    if ( (polynomic.degree() % 2) != 0):\n",
    "        print(\"degree of polynomic have to be par\")\n",
    "    \n",
    "    n = int(polynomic.degree() / 2)\n",
    "    \n",
    "    # Genero un polinomio generico de grado n y los simbolos de sus constantes para H(s)\n",
    "    poly, symbols = generatePoly(n)\n",
    "    # Reemplazo H(s) por H(-s) en el polinomio\n",
    "    npoly = sp.poly(poly.subs({variable:-variable}), variable)\n",
    "    \n",
    "    # Multiplico los polinomios. \n",
    "    polySquared = sp.poly(poly * npoly, variable)\n",
    "    \n",
    "    # Hago el array de coeficientes\n",
    "    def coefArray (poly, dem, variable):\n",
    "        result = []\n",
    "        n = sp.degree(dem)\n",
    "        for i in range(n+1):\n",
    "            polyCoeff = poly.coeff_monomial(variable**i)\n",
    "            demCoeff = dem.coeff_monomial(variable**i)\n",
    "            equation = polyCoeff - demCoeff\n",
    "            if( equation  != 0):\n",
    "                result.append(equation)\n",
    "        return result\n",
    "    \n",
    "    coefarray = coefArray(polySquared,polynomic, variable)\n",
    "    \n",
    "    # como nonlinsolve es muy lento, vamos a encargarnos de calcular el primer y último termino a mano.\n",
    "    a_0 = sp.solve(coefarray[0], symbols[0])[0]\n",
    "    a_n = sp.solve(coefarray[-1], symbols[-1])[0]\n",
    "    \n",
    "    for i,coef in enumerate(coefarray):\n",
    "        coefarray[i] = coef.subs({symbols[0]:a_0, symbols[-1]:a_n})\n",
    "    \n",
    "    for coef in coefarray:\n",
    "        display(Math(sp.latex(coef)))\n",
    "    \n",
    "    #Elimino de los simbolos al primero y último:\n",
    "    \n",
    "    symbols.pop(0)\n",
    "    symbols.pop(-1)\n",
    "    \n",
    "    for constant in constants:\n",
    "        symbols.append(constant)\n",
    "        \n",
    "    \n",
    "    \n",
    "    # Encuentro los candidatos a ser solución\n",
    "    soluciones = sp.solve(coefarray, symbols, domain=sp.S.Reals)\n",
    "    \n",
    "    # Busco la solución donde todos los paarametros sean positivos\n",
    "    def hasProperty(sol):\n",
    "        return all((s.is_real and sp.GreaterThan(s, 0) for s in sol))\n",
    "    \n",
    "    # Si quiere todas las soluciones se las entrego\n",
    "    if (allResults):\n",
    "        return soluciones\n",
    "    \n",
    "    # Obtengo esa solución con todos los parametros positivos\n",
    "    finalResult = list(filter(hasProperty, soluciones))\n",
    "\n",
    "    display(finalResult)\n",
    "    \n",
    "    return finalResult\n",
    "    "
   ]
  },
  {
   "cell_type": "code",
   "execution_count": null,
   "id": "47079ca3-f122-4910-971a-ae50ce46542f",
   "metadata": {},
   "outputs": [
    {
     "data": {
      "text/latex": [
       "$\\displaystyle 0$"
      ],
      "text/plain": [
       "<IPython.core.display.Math object>"
      ]
     },
     "metadata": {},
     "output_type": "display_data"
    },
    {
     "data": {
      "text/latex": [
       "$\\displaystyle - a_{1}^{2} + 2 a_{2} \\sqrt{1 - 4 e^{2}} + 24 e^{2}$"
      ],
      "text/plain": [
       "<IPython.core.display.Math object>"
      ]
     },
     "metadata": {},
     "output_type": "display_data"
    },
    {
     "data": {
      "text/latex": [
       "$\\displaystyle - 8 a_{1} e + a_{2}^{2}$"
      ],
      "text/plain": [
       "<IPython.core.display.Math object>"
      ]
     },
     "metadata": {},
     "output_type": "display_data"
    },
    {
     "data": {
      "text/latex": [
       "$\\displaystyle 0$"
      ],
      "text/plain": [
       "<IPython.core.display.Math object>"
      ]
     },
     "metadata": {},
     "output_type": "display_data"
    }
   ],
   "source": [
    "EJ10 = sp.poly(-e**2*16*s**6-24*e**2*s**2-4*e**2+1,s)\n",
    "\n",
    "factorizeLaplace(EJ10, s, [e], False)"
   ]
  },
  {
   "cell_type": "code",
   "execution_count": null,
   "id": "6c0977ea-cbf4-4089-818c-fc9f57434051",
   "metadata": {},
   "outputs": [],
   "source": []
  }
 ],
 "metadata": {
  "kernelspec": {
   "display_name": "Python 3",
   "language": "python",
   "name": "python3"
  },
  "language_info": {
   "codemirror_mode": {
    "name": "ipython",
    "version": 3
   },
   "file_extension": ".py",
   "mimetype": "text/x-python",
   "name": "python",
   "nbconvert_exporter": "python",
   "pygments_lexer": "ipython3",
   "version": "3.8.5"
  }
 },
 "nbformat": 4,
 "nbformat_minor": 5
}
