{
 "cells": [
  {
   "cell_type": "code",
   "execution_count": 8,
   "id": "6acd2669",
   "metadata": {
    "tags": []
   },
   "outputs": [],
   "source": [
    "import sympy as sp\n",
    "from IPython.display import display, Math\n",
    "from generatePoly import generatePoly\n",
    "from sympy.core.assumptions import assumptions"
   ]
  },
  {
   "cell_type": "code",
   "execution_count": 9,
   "id": "bfed494f",
   "metadata": {
    "tags": []
   },
   "outputs": [],
   "source": [
    "s = sp.symbols('s') # Creamos las variables que usaremos en nuestras funciones\n",
    "e, c = sp.symbols('e, c', positive=True) # Si usamos constantes también las creamos\n",
    "H = sp.symbols('H', cls=sp.Function) # Creamos ls funciones que usaremos."
   ]
  },
  {
   "cell_type": "code",
   "execution_count": 24,
   "id": "a9df4e92-ac5b-4bdc-a0e0-859ef28192b8",
   "metadata": {},
   "outputs": [],
   "source": [
    "def factorizeLaplace (polynomic, variable, constants = 0, allResults = False):\n",
    "    # Validaciones\n",
    "    if (type(polynomic) != sp.polys.polytools.Poly ):\n",
    "        print(\"Polynomic have to be a sympy polynomic, reference: https://docs.sympy.org/latest/modules/polys/reference.html\")\n",
    "    if (type(variable) != sp.core.symbol.Symbol):\n",
    "        print(\"Variable have to ve a sympy symbol, reference: https://docs.sympy.org/latest/modules/core.html?highlight=symbol#module-sympy.core.symbol\")\n",
    "    if (constants != 0):\n",
    "        try:\n",
    "            some_object_iterator = iter(constants)\n",
    "        except TypeError as te:\n",
    "            print(constants, 'have to be an array')\n",
    "            return \"error\"\n",
    "        for constant in constants:\n",
    "            if (type(constant) != sp.core.symbol.Symbol and constant != 0):\n",
    "                print(\"each constant of constants have to ve a sympy symbol, reference: https://docs.sympy.org/latest/modules/core.html?highlight=symbol#module-sympy.core.symbol\")\n",
    "    # Acá empieza\n",
    "    # El grado del polinomio debe ser par, verifico eso y calculo el n que será el grado de H(s):\n",
    "        \n",
    "    if ( (polynomic.degree() % 2) != 0):\n",
    "        print(\"degree of polynomic have to be par\")\n",
    "    \n",
    "    n = int(polynomic.degree() / 2)\n",
    "    \n",
    "    # Genero un polinomio generico de grado n y los simbolos de sus constantes para H(s)\n",
    "    poly, symbols = generatePoly(n)\n",
    "    # Reemplazo H(s) por H(-s) en el polinomio\n",
    "    npoly = sp.poly(poly.subs({variable:-variable}), variable)\n",
    "    \n",
    "    # Multiplico los polinomios. \n",
    "    polySquared = sp.poly(poly * npoly, variable)    \n",
    "    \n",
    "    polynomicWithoutE = polynomic.subs({constants[0]:1})\n",
    "    raicesChevyPuras = sp.roots(polynomicWithoutE, variable, multiple = True)\n",
    "    \n",
    "    raicesChevy = sp.roots(polynomic, variable, multiple = True)\n",
    "    raicesCuadrado = sp.roots(polySquared, variable)\n",
    "    \n",
    "    raicesPositivas = []\n",
    "    raicesNegativas = []\n",
    "    \n",
    "    for i,raiz in enumerate(raicesChevyPuras):\n",
    "        raizSimplificada = sp.simplify(raicesChevy[i])\n",
    "        if ( sp.re(raiz) > 0):\n",
    "            print(sp.re(raiz) > 0)\n",
    "            display(Math( \"positiva:\" + sp.latex(sp.simplify(raiz))))\n",
    "            raicesPositivas.append(raizSimplificada)\n",
    "        else:\n",
    "            print(sp.re(raiz) > 0)\n",
    "            display(Math( \"negativa:\" + sp.latex(sp.simplify(raiz))))\n",
    "            raicesNegativas.append(raizSimplificada)\n",
    "            \n",
    "    \n",
    "    polynomicN_2 = sp.poly( sp.simplify((s - raicesPositivas[2]) * (s - raicesPositivas[1])  * (s - raicesPositivas[0])) , variable)\n",
    "    polynomicNegative = sp.poly( sp.simplify((s - raicesNegativas[2]) * (s - raicesNegativas[1])  * (s - raicesNegativas[0])) , variable)\n",
    "    \n",
    "    polynomicN_2 = polynomicN_2.subs({constants[0]: 0.3})\n",
    "    polynomicNegative = polynomicN_2.subs({constants[0]: 0.3})\n",
    "    display(polynomicN_2)\n",
    "    display(polynomicNegative)\n",
    "    \n",
    "    cuadradePolynomic =  sp.simplify(polynomicN_2 * polynomicNegative) \n",
    "    \n",
    "    display(cuadradePolynomic)\n",
    "    \n",
    "    # añadimos las constantes a nuestro mapa de simbolos.\n",
    "    for constant in constants:\n",
    "        symbols.append(constant)\n",
    "        \n",
    "    #Encuentro los candidatos a ser solución\n",
    "    #soluciones = sp.nonlinsolve(coefarray, symbols)\n",
    "    \n",
    "    # Busco la solución donde todos los paarametros sean positivos\n",
    "    def hasProperty(sol):\n",
    "        return all((s.is_real and sp.GreaterThan(s, 0) for s in sol))\n",
    "    \n",
    "    # Si quiere todas las soluciones se las entrego\n",
    "    #if (allResults):\n",
    "    #    return soluciones\n",
    "    \n",
    "    # Obtengo esa solución con todos los parametros positivos\n",
    "    #finalResult = list(filter(hasProperty, soluciones))\n",
    "\n",
    "    #display(finalResult)\n",
    "    \n",
    "    #return finalResult\n",
    "    return 1\n"
   ]
  },
  {
   "cell_type": "code",
   "execution_count": 25,
   "id": "47079ca3-f122-4910-971a-ae50ce46542f",
   "metadata": {},
   "outputs": [
    {
     "data": {
      "text/latex": [
       "$\\displaystyle \\operatorname{Poly}{\\left( - 16 e^{2} s^{6} -  24 e^{2} s^{4} -  9 e^{2} s^{2} + 1, s, domain=\\mathbb{Z}\\left[e\\right] \\right)}$"
      ],
      "text/plain": [
       "Poly(-16*e**2*s**6 - 24*e**2*s**4 - 9*e**2*s**2 + 1, s, domain='ZZ[e]')"
      ]
     },
     "metadata": {},
     "output_type": "display_data"
    }
   ],
   "source": [
    "#e = 0.3\n",
    "#c = e**2\n",
    "EJ10 = sp.poly( -e**2*16*s**6 - e**2*24*s**4-9*e**2*s**2+1,s)\n",
    "display(EJ10)\n",
    "\n"
   ]
  },
  {
   "cell_type": "code",
   "execution_count": 26,
   "id": "055a5da8-e3a4-444e-b031-e70a969d5070",
   "metadata": {},
   "outputs": [
    {
     "name": "stdout",
     "output_type": "stream",
     "text": [
      "True\n"
     ]
    },
    {
     "data": {
      "text/latex": [
       "$\\displaystyle positiva:\\frac{-1 + \\left(1 + \\sqrt{2}\\right)^{\\frac{2}{3}}}{2 \\sqrt[3]{1 + \\sqrt{2}}}$"
      ],
      "text/plain": [
       "<IPython.core.display.Math object>"
      ]
     },
     "metadata": {},
     "output_type": "display_data"
    },
    {
     "name": "stdout",
     "output_type": "stream",
     "text": [
      "False\n"
     ]
    },
    {
     "data": {
      "text/latex": [
       "$\\displaystyle negativa:\\frac{1 - \\left(1 + \\sqrt{2}\\right)^{\\frac{2}{3}}}{2 \\sqrt[3]{1 + \\sqrt{2}}}$"
      ],
      "text/plain": [
       "<IPython.core.display.Math object>"
      ]
     },
     "metadata": {},
     "output_type": "display_data"
    },
    {
     "name": "stdout",
     "output_type": "stream",
     "text": [
      "False\n"
     ]
    },
    {
     "data": {
      "text/latex": [
       "$\\displaystyle negativa:\\frac{4 - \\left(1 + \\sqrt{2}\\right)^{\\frac{2}{3}} \\left(1 + \\sqrt{3} i\\right)^{2}}{4 \\sqrt[3]{1 + \\sqrt{2}} \\left(1 + \\sqrt{3} i\\right)}$"
      ],
      "text/plain": [
       "<IPython.core.display.Math object>"
      ]
     },
     "metadata": {},
     "output_type": "display_data"
    },
    {
     "name": "stdout",
     "output_type": "stream",
     "text": [
      "False\n"
     ]
    },
    {
     "data": {
      "text/latex": [
       "$\\displaystyle negativa:\\frac{4 - \\left(1 + \\sqrt{2}\\right)^{\\frac{2}{3}} \\left(1 - \\sqrt{3} i\\right)^{2}}{4 \\sqrt[3]{1 + \\sqrt{2}} \\left(1 - \\sqrt{3} i\\right)}$"
      ],
      "text/plain": [
       "<IPython.core.display.Math object>"
      ]
     },
     "metadata": {},
     "output_type": "display_data"
    },
    {
     "name": "stdout",
     "output_type": "stream",
     "text": [
      "True\n"
     ]
    },
    {
     "data": {
      "text/latex": [
       "$\\displaystyle positiva:\\frac{-4 + \\left(1 + \\sqrt{2}\\right)^{\\frac{2}{3}} \\left(1 + \\sqrt{3} i\\right)^{2}}{4 \\sqrt[3]{1 + \\sqrt{2}} \\left(1 + \\sqrt{3} i\\right)}$"
      ],
      "text/plain": [
       "<IPython.core.display.Math object>"
      ]
     },
     "metadata": {},
     "output_type": "display_data"
    },
    {
     "name": "stdout",
     "output_type": "stream",
     "text": [
      "True\n"
     ]
    },
    {
     "data": {
      "text/latex": [
       "$\\displaystyle positiva:\\frac{-4 + \\left(1 + \\sqrt{2}\\right)^{\\frac{2}{3}} \\left(1 - \\sqrt{3} i\\right)^{2}}{4 \\sqrt[3]{1 + \\sqrt{2}} \\left(1 - \\sqrt{3} i\\right)}$"
      ],
      "text/plain": [
       "<IPython.core.display.Math object>"
      ]
     },
     "metadata": {},
     "output_type": "display_data"
    },
    {
     "data": {
      "text/latex": [
       "$\\displaystyle s^{3} - 1.36829698071732 s^{2} + 1.68611831372007 s - 0.833333333333333$"
      ],
      "text/plain": [
       "s**3 - 1.36829698071732*s**2 + 1.68611831372007*s - 0.833333333333333"
      ]
     },
     "metadata": {},
     "output_type": "display_data"
    },
    {
     "data": {
      "text/latex": [
       "$\\displaystyle s^{3} - 1.36829698071732 s^{2} + 1.68611831372007 s - 0.833333333333333$"
      ],
      "text/plain": [
       "s**3 - 1.36829698071732*s**2 + 1.68611831372007*s - 0.833333333333333"
      ]
     },
     "metadata": {},
     "output_type": "display_data"
    },
    {
     "data": {
      "text/latex": [
       "$\\displaystyle 2.8429949678622 \\left(0.593078191407405 s^{3} - 0.81150709863204 s^{2} + s - 0.494231826172837\\right)^{2}$"
      ],
      "text/plain": [
       "2.8429949678622*(0.593078191407405*s**3 - 0.81150709863204*s**2 + s - 0.494231826172837)**2"
      ]
     },
     "metadata": {},
     "output_type": "display_data"
    }
   ],
   "source": [
    "soluciones = factorizeLaplace(EJ10, s, [e], False)"
   ]
  },
  {
   "cell_type": "code",
   "execution_count": 66,
   "id": "85952deb-0ee6-4f29-8e3e-1aca823c1fd6",
   "metadata": {},
   "outputs": [],
   "source": [
    "B = sp.solve(9*e**2-2*sp.sqrt(8)*sp.sqrt(-3*e**2+a_1)+a_1**2,a_1)"
   ]
  },
  {
   "cell_type": "code",
   "execution_count": 97,
   "id": "5515bb11-83d0-4bec-a334-601a6daeea46",
   "metadata": {},
   "outputs": [
    {
     "data": {
      "text/latex": [
       "$\\displaystyle -1.32655872617881 - 2.41085308125483 i$"
      ],
      "text/plain": [
       "<IPython.core.display.Math object>"
      ]
     },
     "metadata": {},
     "output_type": "display_data"
    },
    {
     "data": {
      "text/latex": [
       "$\\displaystyle -1.32655872617881 + 2.41085308125483 i$"
      ],
      "text/plain": [
       "<IPython.core.display.Math object>"
      ]
     },
     "metadata": {},
     "output_type": "display_data"
    },
    {
     "data": {
      "text/latex": [
       "$\\displaystyle 0.245958674636321$"
      ],
      "text/plain": [
       "<IPython.core.display.Math object>"
      ]
     },
     "metadata": {},
     "output_type": "display_data"
    },
    {
     "data": {
      "text/latex": [
       "$\\displaystyle 2.40715877772129$"
      ],
      "text/plain": [
       "<IPython.core.display.Math object>"
      ]
     },
     "metadata": {},
     "output_type": "display_data"
    }
   ],
   "source": [
    "D = []\n",
    "for solution in B:\n",
    "    D.append(solution.subs({e:0.3}))\n",
    "\n",
    "for solution in D:\n",
    "    solution = solution/(4*0.3)\n",
    "    display(Math(sp.latex(solution)))"
   ]
  },
  {
   "cell_type": "code",
   "execution_count": 107,
   "id": "3f6ce91a-0569-4a64-af95-dc934923209d",
   "metadata": {},
   "outputs": [
    {
     "data": {
      "text/latex": [
       "$\\displaystyle 3.8141480286964$"
      ],
      "text/plain": [
       "3.81414802869640"
      ]
     },
     "execution_count": 107,
     "metadata": {},
     "output_type": "execute_result"
    }
   ],
   "source": [
    "F = sp.solve(a_1 - sp.sqrt(-0.3**2*24+8*D[3]),a_1)\n",
    "\n",
    "F[0] = F[0] / (4*0.3)\n",
    "\n",
    "F[0]"
   ]
  },
  {
   "cell_type": "code",
   "execution_count": 79,
   "id": "10646a0f-4896-4710-bc2a-784b28d62ea1",
   "metadata": {},
   "outputs": [
    {
     "data": {
      "text/latex": [
       "$\\displaystyle a_{1}^{2} + 9 e^{2} - 4 \\sqrt{2} \\sqrt{a_{1} - 3 e^{2}}$"
      ],
      "text/plain": [
       "<IPython.core.display.Math object>"
      ]
     },
     "execution_count": 79,
     "metadata": {},
     "output_type": "execute_result"
    }
   ],
   "source": [
    "## a_1 = sp.symbols('a_1') \n",
    "Math(sp.latex(9*e**2-2*sp.sqrt(8)*sp.sqrt(-3*e**2+a_1)+a_1**2))"
   ]
  },
  {
   "cell_type": "code",
   "execution_count": 10,
   "id": "42600620-4d64-4fd9-9562-ddccd98c6add",
   "metadata": {},
   "outputs": [],
   "source": [
    "poly, symbols = generatePoly(3)\n",
    "# Reemplazo H(s) por H(-s) en el polinomio\n",
    "npoly = sp.poly(poly.subs({s:-s}), s)\n",
    "\n",
    "# Multiplico los polinomios. \n",
    "polySquared = sp.poly(poly * npoly, s)    "
   ]
  },
  {
   "cell_type": "code",
   "execution_count": 11,
   "id": "dfc69793-f489-4ece-bc72-deeef8d948f3",
   "metadata": {},
   "outputs": [
    {
     "data": {
      "text/latex": [
       "$\\displaystyle \\operatorname{Poly}{\\left( - a_{3}^{2} s^{6} + \\left(- 2 a_{1} a_{3} + a_{2}^{2}\\right) s^{4} + \\left(2 a_{0} a_{2} - a_{1}^{2}\\right) s^{2} + a_{0}^{2}, s, domain=\\mathbb{Z}\\left[a_{0}, a_{1}, a_{2}, a_{3}\\right] \\right)}$"
      ],
      "text/plain": [
       "Poly(-a_3**2*s**6 + (-2*a_1*a_3 + a_2**2)*s**4 + (2*a_0*a_2 - a_1**2)*s**2 + a_0**2, s, domain='ZZ[a_0,a_1,a_2,a_3]')"
      ]
     },
     "execution_count": 11,
     "metadata": {},
     "output_type": "execute_result"
    }
   ],
   "source": [
    "polySquared"
   ]
  },
  {
   "cell_type": "code",
   "execution_count": 19,
   "id": "6485a04f-37fb-40c2-852a-599b9140cce2",
   "metadata": {},
   "outputs": [
    {
     "data": {
      "text/latex": [
       "$\\displaystyle - 4 \\sqrt{64 - 3 e^{2}} - 32$"
      ],
      "text/plain": [
       "-4*sqrt(64 - 3*e**2) - 32"
      ]
     },
     "execution_count": 19,
     "metadata": {},
     "output_type": "execute_result"
    }
   ],
   "source": [
    "e, c, a_2= sp.symbols('e, c, a_2', positive=True) # Si usamos constantes también las creamos\n",
    "\n",
    "sp.solve(a_2**2 + 2**6*a_2 + 48*e**2, a_2)[0]"
   ]
  },
  {
   "cell_type": "code",
   "execution_count": null,
   "id": "a3f721b9-b506-4313-a1f5-6de1d552120c",
   "metadata": {},
   "outputs": [],
   "source": []
  }
 ],
 "metadata": {
  "kernelspec": {
   "display_name": "Python 3",
   "language": "python",
   "name": "python3"
  },
  "language_info": {
   "codemirror_mode": {
    "name": "ipython",
    "version": 3
   },
   "file_extension": ".py",
   "mimetype": "text/x-python",
   "name": "python",
   "nbconvert_exporter": "python",
   "pygments_lexer": "ipython3",
   "version": "3.8.5"
  }
 },
 "nbformat": 4,
 "nbformat_minor": 5
}
