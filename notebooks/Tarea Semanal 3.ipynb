{
 "cells": [
  {
   "cell_type": "markdown",
   "id": "f5a8e544-3f00-454d-bc6e-e52ee707b8b5",
   "metadata": {},
   "source": [
    "# Tarea Semanal #3"
   ]
  },
  {
   "cell_type": "markdown",
   "id": "90d7c096-95fb-4be6-b520-fd07151c441b",
   "metadata": {},
   "source": [
    "[](ConsignaTareaSemanal3.png)"
   ]
  },
  {
   "cell_type": "code",
   "execution_count": 9,
   "id": "52e09f04-7137-43a3-af34-42f8c445c335",
   "metadata": {},
   "outputs": [],
   "source": [
    "# Módulos que necesitaré\n",
    "import sympy as sp\n",
    "import math\n",
    "from IPython.display import display, Math"
   ]
  },
  {
   "cell_type": "markdown",
   "id": "7d76a0f7-8aa7-4314-98ea-8832f07a7fc8",
   "metadata": {},
   "source": [
    "### Primero obtendremos la plantilla pasabanda normalizada, para ello haremos un poqueño gráfico que nos de idea de qué está ocurriendo:"
   ]
  },
  {
   "cell_type": "markdown",
   "id": "3801e180-6195-4d82-97ac-a940e71528a8",
   "metadata": {},
   "source": [
    "![](PlantillaPasabanda.png)"
   ]
  },
  {
   "cell_type": "markdown",
   "id": "5e49f79b-a5c2-45a1-8ca2-5bda9ccf0003",
   "metadata": {},
   "source": [
    "Definimos:\n",
    "- $w_0 = \\frac{w_0}{\\Omega_w}=1$\n",
    "\n",
    "Y por tanto sabemos que:\n",
    "- $\\Omega_w = 2\\pi \\cdot 22KHz $\n",
    "\n",
    "Además:\n",
    "\n",
    "- $B = w_2-w_1 \\longrightarrow w_2 = B + w_1 \\longrightarrow w_1=w_2-B$\n",
    "\n",
    "De ahí deducimos que:\n",
    "\n",
    "- ${w_1}^2 + Bw_1 - 1 = 0$\n",
    "\n",
    "Para resolverlo y ver el potencial de Sympy, lo haremos utilizando está herramienta:"
   ]
  },
  {
   "cell_type": "code",
   "execution_count": 17,
   "id": "f2687f27-9350-41f4-b494-2fc182885f1e",
   "metadata": {},
   "outputs": [
    {
     "data": {
      "text/latex": [
       "$\\displaystyle w_1 =- \\frac{B}{2} + \\frac{\\sqrt{B^{2} + 4}}{2}$"
      ],
      "text/plain": [
       "<IPython.core.display.Math object>"
      ]
     },
     "metadata": {},
     "output_type": "display_data"
    }
   ],
   "source": [
    "s = sp.symbols('s') # Creamos las variables que usaremos en nuestras funciones.\n",
    "w_1, B = sp.symbols('w_1 B', positive=True)\n",
    "H, f, Dem, p, np, result = sp.symbols('H, f, Dem p np result', cls=sp.Function) # Creamos las funciones que usaremos.\n",
    "\n",
    "solucion = sp.solve(w_1**2 + B*w_1 - 1, w_1)\n",
    "\n",
    "# Pongo solucion[0] porque pese a ser una única solución (dado que B y w_1 son positivos), sp.solve devuelve un array.\n",
    "display(Math(\"w_1 =\" + sp.latex(solucion[0])))"
   ]
  },
  {
   "cell_type": "markdown",
   "id": "e0fb8b7a-d1d0-499f-b2ff-0f0df0383ea4",
   "metadata": {},
   "source": [
    "Como sabemos que $B = \\frac{1}{5}$ reemplazamos en la solución:"
   ]
  },
  {
   "cell_type": "code",
   "execution_count": 11,
   "id": "e2fdd1b4-a3ae-45d8-83ba-6f9831c686df",
   "metadata": {},
   "outputs": [
    {
     "data": {
      "text/latex": [
       "$\\displaystyle w_1=0.904987562112089$"
      ],
      "text/plain": [
       "<IPython.core.display.Math object>"
      ]
     },
     "metadata": {},
     "output_type": "display_data"
    }
   ],
   "source": [
    "w_1 = solucion[0].subs({B: 1/5})\n",
    "\n",
    "display(Math(\"w_1=\"+ str(w_1)))"
   ]
  },
  {
   "cell_type": "markdown",
   "id": "4a31468b-25ee-43ba-a468-75e9f088d84f",
   "metadata": {},
   "source": [
    "Como $w_1 \\cdot w_2 = 1$ podemos calcular $w_2$ rápidamente:"
   ]
  },
  {
   "cell_type": "code",
   "execution_count": 12,
   "id": "5bb06e38-64f8-42c3-aa26-ac3c9784695f",
   "metadata": {},
   "outputs": [
    {
     "data": {
      "text/latex": [
       "$\\displaystyle w_2 = 1.10498756211209$"
      ],
      "text/plain": [
       "<IPython.core.display.Math object>"
      ]
     },
     "metadata": {},
     "output_type": "display_data"
    }
   ],
   "source": [
    "w_2 = 1/w_1\n",
    "display(Math(\"w_2 = \" + str(w_2)))"
   ]
  },
  {
   "cell_type": "markdown",
   "id": "8600ba7e-1dce-4876-9e8c-35324ec68bc7",
   "metadata": {},
   "source": [
    "Para calcular $w_{s_1}$ y $w_{s_2}$ sólo tenemos que aplicar la norma $\\Omega_w$:"
   ]
  },
  {
   "cell_type": "code",
   "execution_count": 13,
   "id": "0f6a5d39-855a-4508-8f16-92c345e81143",
   "metadata": {},
   "outputs": [
    {
     "data": {
      "text/latex": [
       "$\\displaystyle w_{s_1} = \\frac{2\\pi \\cdot 16KHz}{2\\pi \\cdot 22KHz} = \\frac{8}{11} = 0.7272727272727273$"
      ],
      "text/plain": [
       "<IPython.core.display.Math object>"
      ]
     },
     "metadata": {},
     "output_type": "display_data"
    },
    {
     "data": {
      "text/latex": [
       "$\\displaystyle w_{s_2} = \\frac{2\\pi \\cdot 16KHz}{2\\pi \\cdot 22KHz} = \\frac{8}{11} = 1.6363636363636362$"
      ],
      "text/plain": [
       "<IPython.core.display.Math object>"
      ]
     },
     "metadata": {},
     "output_type": "display_data"
    }
   ],
   "source": [
    "f_s1 = 16 # [KHz] Consigna\n",
    "f_s2 = 36 # [KHz] Consigna\n",
    "π = 3.14159265359\n",
    "Ω_w = 2 * π * 22\n",
    "#Calculamos w_s1 y w_s2\n",
    "w_s1 = 2 * π * f_s1\n",
    "w_s2 = 2 * π * f_s2\n",
    "# Aplicamos la norma\n",
    "w_s1 = w_s1 / Ω_w\n",
    "w_s2 = w_s2 / Ω_w\n",
    "\n",
    "\n",
    "display(Math(\"w_{s_1} = \\\\frac{2\\pi \\cdot 16KHz}{2\\pi \\cdot 22KHz} = \\\\frac{8}{11} = \" + str(w_s1) ))\n",
    "display(Math(\"w_{s_2} = \\\\frac{2\\pi \\cdot 16KHz}{2\\pi \\cdot 22KHz} = \\\\frac{8}{11} = \" + str(w_s2) ))"
   ]
  },
  {
   "cell_type": "markdown",
   "id": "3dd617d8-f014-4d88-bc4b-8fd34d1f589d",
   "metadata": {},
   "source": [
    "Aplicamos la transf. $PB_a \\longrightarrow$ PB\n",
    "$$\\Omega_{s_i} = \\frac{Q\\left({w_{s_i}}^2 - 1\\right)}{w_{s_i}}$$"
   ]
  },
  {
   "cell_type": "code",
   "execution_count": 14,
   "id": "bf0fee8d-dc93-4a08-80f7-517f9034f97f",
   "metadata": {},
   "outputs": [
    {
     "data": {
      "text/latex": [
       "$\\displaystyle \\Omega_{s_1} =-3.2386363636363633$"
      ],
      "text/plain": [
       "<IPython.core.display.Math object>"
      ]
     },
     "metadata": {},
     "output_type": "display_data"
    },
    {
     "data": {
      "text/latex": [
       "$\\displaystyle \\Omega_{s_2} =5.1262626262626245$"
      ],
      "text/plain": [
       "<IPython.core.display.Math object>"
      ]
     },
     "metadata": {},
     "output_type": "display_data"
    },
    {
     "data": {
      "text/plain": [
       "'¿Nos puede dar negativo? Acá nos damos cuenta de que eso es medio rari, en realidad queremos el módulo, así que:'"
      ]
     },
     "metadata": {},
     "output_type": "display_data"
    },
    {
     "data": {
      "text/latex": [
       "$\\displaystyle \\Omega_{s_1} =3.2386363636363633$"
      ],
      "text/plain": [
       "<IPython.core.display.Math object>"
      ]
     },
     "metadata": {},
     "output_type": "display_data"
    },
    {
     "data": {
      "text/latex": [
       "$\\displaystyle \\Omega_{s_2} =5.1262626262626245$"
      ],
      "text/plain": [
       "<IPython.core.display.Math object>"
      ]
     },
     "metadata": {},
     "output_type": "display_data"
    }
   ],
   "source": [
    "Q = 5\n",
    "Ω_s1 = Q * (w_s1**2 - 1) / w_s1 \n",
    "Ω_s2 = Q * (w_s2**2 - 1) / w_s2\n",
    "\n",
    "display(Math(\"\\Omega_{s_1} =\" + str(Ω_s1) ))\n",
    "display(Math(\"\\Omega_{s_2} =\" + str(Ω_s2) ))\n",
    "\n",
    "display(\"¿Nos puede dar negativo? Acá nos damos cuenta de que eso es medio rari, en realidad queremos el módulo, así que:\")\n",
    "Ω_s1 = abs(Ω_s1)\n",
    "Ω_s2 = abs(Ω_s2)\n",
    "\n",
    "display(Math(\"\\Omega_{s_1} =\" + str(Ω_s1) ))\n",
    "display(Math(\"\\Omega_{s_2} =\" + str(Ω_s2) ))"
   ]
  },
  {
   "cell_type": "markdown",
   "id": "4e94019a-8635-4817-aee6-9c28ab08bb13",
   "metadata": {},
   "source": [
    "Calculamos $ϵ$ que es:\n",
    "\n",
    "$$ϵ = \\sqrt{10^{0.1\\alpha_{max}} - 1}$$"
   ]
  },
  {
   "cell_type": "code",
   "execution_count": 15,
   "id": "f8bd33cf-b6eb-4907-9343-86e2a59259e1",
   "metadata": {},
   "outputs": [
    {
     "data": {
      "text/latex": [
       "$\\displaystyle ϵ =0.349311400188948$"
      ],
      "text/plain": [
       "<IPython.core.display.Math object>"
      ]
     },
     "metadata": {},
     "output_type": "display_data"
    }
   ],
   "source": [
    "# No voy a usar la letra epsilon porque se puede confundir con una e a diferencia de pi y Omega\n",
    "# Así que usaré la letra e que representará a epsilon\n",
    "α_max = 0.5 # [DB] \n",
    "e = sp.sqrt(10**(0.1*α_max) - 1)\n",
    "display(Math(\"ϵ =\" + str(e) ))"
   ]
  },
  {
   "cell_type": "markdown",
   "id": "39a64cc8-28ba-43f4-8032-511d39f15fc3",
   "metadata": {},
   "source": [
    "Para cada filtro pasabajo calculamos el n y nos quedamos con el que de más grande para estar seguros de que cumplamos las exigencias mínimas del filtro, para calcular n podemos usar la formula mágica que salió del libro o iterar con distintos n y ver que la siguiente regla:\n",
    "\n",
    "$$ \\alpha(w_s) = 10 log\\left(1 + \\epsilon^2{w_s}^{2n}\\right)$$\n",
    "\n",
    "Esta última forma tiene sentido, es de deducción inmediata y muy conveniente para no tener que memorizar nada, además de ser la preferida del profesor (por todas estas razones). \n",
    "Usaremos esta última pero implementada con sympy."
   ]
  },
  {
   "cell_type": "code",
   "execution_count": 18,
   "id": "3b9becca-3665-43b3-a132-5053112f4cc3",
   "metadata": {},
   "outputs": [
    {
     "data": {
      "text/latex": [
       "$\\displaystyle  n = 1 \\Longrightarrow 16dB < 4dB \\Longrightarrow True$"
      ],
      "text/plain": [
       "<IPython.core.display.Math object>"
      ]
     },
     "metadata": {},
     "output_type": "display_data"
    },
    {
     "data": {
      "text/latex": [
       "$\\displaystyle  n = 2 \\Longrightarrow 16dB < 12dB \\Longrightarrow True$"
      ],
      "text/plain": [
       "<IPython.core.display.Math object>"
      ]
     },
     "metadata": {},
     "output_type": "display_data"
    },
    {
     "data": {
      "text/latex": [
       "$\\displaystyle  n = 3 \\Longrightarrow 16dB < 22dB \\Longrightarrow False$"
      ],
      "text/plain": [
       "<IPython.core.display.Math object>"
      ]
     },
     "metadata": {},
     "output_type": "display_data"
    },
    {
     "data": {
      "text/latex": [
       "$\\displaystyle  n = 1 \\Longrightarrow 24dB < 7dB \\Longrightarrow True$"
      ],
      "text/plain": [
       "<IPython.core.display.Math object>"
      ]
     },
     "metadata": {},
     "output_type": "display_data"
    },
    {
     "data": {
      "text/latex": [
       "$\\displaystyle  n = 2 \\Longrightarrow 24dB < 20dB \\Longrightarrow True$"
      ],
      "text/plain": [
       "<IPython.core.display.Math object>"
      ]
     },
     "metadata": {},
     "output_type": "display_data"
    },
    {
     "data": {
      "text/latex": [
       "$\\displaystyle  n = 3 \\Longrightarrow 24dB < 34dB \\Longrightarrow False$"
      ],
      "text/plain": [
       "<IPython.core.display.Math object>"
      ]
     },
     "metadata": {},
     "output_type": "display_data"
    }
   ],
   "source": [
    "n = 1\n",
    "n2 = 1\n",
    "posibleResultado = 0\n",
    "posibleResultado2 = 0\n",
    "\n",
    "α_min_1 = 16\n",
    "α_min_2 = 24\n",
    "while (α_min_1 > posibleResultado):\n",
    "    dem = 1 + e**2 * Ω_s1 ** (2 * n)\n",
    "    posibleResultado = 10 * log(dem,10)\n",
    "    display(Math( f\" n = {n} \\Longrightarrow {α_min_1}dB < {math.ceil(posibleResultado)}dB \\Longrightarrow {α_min_1 > posibleResultado}\" ))\n",
    "    n = n + 1\n",
    "\n",
    "n = n - 1\n",
    "\n",
    "while (α_min_2 > posibleResultado2):\n",
    "    dem = 1 + e**2 * Ω_s2 ** (2 * n2)\n",
    "    posibleResultado2 = 10 * log(dem,10)\n",
    "    display(Math( f\" n = {n2} \\Longrightarrow {α_min_2}dB < {math.ceil(posibleResultado2)}dB \\Longrightarrow {α_min_2 > posibleResultado2}\" ))\n",
    "    n2 = n2 + 1"
   ]
  },
  {
   "cell_type": "code",
   "execution_count": null,
   "id": "7d82ffdd-6955-4983-9b7b-a9d031731511",
   "metadata": {},
   "outputs": [],
   "source": []
  },
  {
   "cell_type": "code",
   "execution_count": null,
   "id": "2bc1eb34-e827-430e-abb5-397a78e47b3f",
   "metadata": {},
   "outputs": [],
   "source": []
  }
 ],
 "metadata": {
  "kernelspec": {
   "display_name": "Python 3",
   "language": "python",
   "name": "python3"
  },
  "language_info": {
   "codemirror_mode": {
    "name": "ipython",
    "version": 3
   },
   "file_extension": ".py",
   "mimetype": "text/x-python",
   "name": "python",
   "nbconvert_exporter": "python",
   "pygments_lexer": "ipython3",
   "version": "3.8.5"
  }
 },
 "nbformat": 4,
 "nbformat_minor": 5
}
