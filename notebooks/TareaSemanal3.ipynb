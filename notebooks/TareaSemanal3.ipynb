{
 "cells": [
  {
   "cell_type": "code",
   "execution_count": 3,
   "id": "6acd2669",
   "metadata": {
    "tags": []
   },
   "outputs": [],
   "source": [
    "import sympy as sp\n",
    "from IPython.display import display, Math"
   ]
  },
  {
   "cell_type": "code",
   "execution_count": 4,
   "id": "56bff028",
   "metadata": {},
   "outputs": [],
   "source": [
    "def generatePoly (n):\n",
    "    \n",
    "    symbols = []\n",
    "    for i in range(n+1):\n",
    "      symbols.append(sp.symbols(f\"a_{i}\"))\n",
    "    \n",
    "    s = sp.symbols('s')\n",
    "    result = sp.poly(0, s)\n",
    "    for x in range(n+1):\n",
    "        result = result.add(sp.poly(symbols[x]*s**x,s))\n",
    "    return result, symbols"
   ]
  },
  {
   "cell_type": "code",
   "execution_count": 5,
   "id": "bfed494f",
   "metadata": {
    "tags": []
   },
   "outputs": [],
   "source": [
    "w, s = sp.symbols('w s')"
   ]
  },
  {
   "cell_type": "code",
   "execution_count": 6,
   "id": "bf864e71",
   "metadata": {
    "tags": []
   },
   "outputs": [],
   "source": [
    "a, b, c, k = sp.symbols('a b c k', positive=True)"
   ]
  },
  {
   "cell_type": "code",
   "execution_count": 13,
   "id": "13ee7afe",
   "metadata": {
    "tags": []
   },
   "outputs": [],
   "source": [
    "H, f, Dem, p, np, result = sp.symbols('H, f, Dem p np result', cls=sp.Function)"
   ]
  },
  {
   "cell_type": "markdown",
   "id": "ebc3b7ca",
   "metadata": {},
   "source": [
    "Dada la función:\n",
    "\n",
    "$$\\left|H(s)\\right|^2 = \\frac{1}{14s^4+4s^2+2}$$\n",
    "\n",
    "Lo podríamos separar en:\n",
    "\n",
    "$$H(s)\\cdot H(− s) = \\frac{1}{14s^4+4s^2+2} = \\frac{1}{a_1s^2 + a_0s + a} \\cdot \\frac{1}{a_1s^2 - a_0s + a}$$\n",
    "\n",
    "Esto lo podemos generalizar para cualquier polinomio de grado n par. Primero ponemos el polinomio de $|H(s)|^2$ en una variable de sympy de tipo poly"
   ]
  },
  {
   "cell_type": "code",
   "execution_count": 14,
   "id": "596de00a",
   "metadata": {
    "tags": []
   },
   "outputs": [
    {
     "data": {
      "text/latex": [
       "$\\displaystyle \\operatorname{Poly}{\\left( 4 s^{4} + 4 s^{2} + 2, s, domain=\\mathbb{Z} \\right)}$"
      ],
      "text/plain": [
       "Poly(4*s**4 + 4*s**2 + 2, s, domain='ZZ')"
      ]
     },
     "execution_count": 14,
     "metadata": {},
     "output_type": "execute_result"
    }
   ],
   "source": [
    "Dem = sp.poly(4*s**4 + 4*s**2 + 2, s) \n",
    "Dem"
   ]
  },
  {
   "cell_type": "markdown",
   "id": "894df8f3",
   "metadata": {},
   "source": [
    "Luego generamos los polinomios genéricos pra $H(s)$ y $H(-s)$"
   ]
  },
  {
   "cell_type": "code",
   "execution_count": 15,
   "id": "92a9edf2",
   "metadata": {
    "tags": []
   },
   "outputs": [
    {
     "data": {
      "text/latex": [
       "$\\displaystyle \\operatorname{Poly}{\\left( a_{2} s^{2} + a_{1} s + a_{0}, s, domain=\\mathbb{Z}\\left[a_{0}, a_{1}, a_{2}\\right] \\right)}$"
      ],
      "text/plain": [
       "<IPython.core.display.Math object>"
      ]
     },
     "metadata": {},
     "output_type": "display_data"
    },
    {
     "name": "stdout",
     "output_type": "stream",
     "text": [
      "None\n"
     ]
    },
    {
     "data": {
      "text/latex": [
       "$\\displaystyle \\operatorname{Poly}{\\left( a_{2} s^{2} + a_{1} - s + a_{0}, - s, domain=\\mathbb{Z}\\left[a_{0}, a_{1}, a_{2}\\right] \\right)}$"
      ],
      "text/plain": [
       "<IPython.core.display.Math object>"
      ]
     },
     "metadata": {},
     "output_type": "display_data"
    },
    {
     "name": "stdout",
     "output_type": "stream",
     "text": [
      "None\n"
     ]
    }
   ],
   "source": [
    "p2, symbols = generatePoly(2)\n",
    "np2 = sp.poly(p2.subs({s:-s}))\n",
    "print(display(Math(sp.latex(p2))))\n",
    "print(display(Math(sp.latex(np2))))"
   ]
  },
  {
   "cell_type": "markdown",
   "id": "77a6a74a",
   "metadata": {},
   "source": [
    "Multiplicamos ambos polinomios y guardamos en un nueva variable:"
   ]
  },
  {
   "cell_type": "code",
   "execution_count": 16,
   "id": "347c76dc",
   "metadata": {
    "tags": []
   },
   "outputs": [
    {
     "data": {
      "text/latex": [
       "$\\displaystyle \\operatorname{Poly}{\\left( a_{2}^{2} s^{4} + \\left(2 a_{0} a_{2} - a_{1}^{2}\\right) s^{2} + a_{0}^{2}, s, domain=\\mathbb{Z}\\left[a_{0}, a_{1}, a_{2}\\right] \\right)}$"
      ],
      "text/plain": [
       "Poly(a_2**2*s**4 + (2*a_0*a_2 - a_1**2)*s**2 + a_0**2, s, domain='ZZ[a_0,a_1,a_2]')"
      ]
     },
     "execution_count": 16,
     "metadata": {},
     "output_type": "execute_result"
    }
   ],
   "source": [
    "result = sp.poly(p2 * np2, s)\n",
    "result"
   ]
  },
  {
   "cell_type": "markdown",
   "id": "6c171a43",
   "metadata": {},
   "source": [
    "Ahora obtendremos los coeficientes, para ello necesitamos un array con todo nuestro sistema de ecuaciones igualado a $0$, lo obtenemos de la siguiente forma:"
   ]
  },
  {
   "cell_type": "code",
   "execution_count": 17,
   "id": "6babf590",
   "metadata": {
    "tags": []
   },
   "outputs": [],
   "source": [
    "def coefArray (poly, dem):\n",
    "    result = []\n",
    "    n = sp.degree(dem)\n",
    "    for i in range(n+1):\n",
    "        result.append(poly.coeff_monomial(s**i) - dem.coeff_monomial(s**i))\n",
    "    return result"
   ]
  },
  {
   "cell_type": "code",
   "execution_count": 18,
   "id": "cd9da11a",
   "metadata": {
    "tags": []
   },
   "outputs": [
    {
     "data": {
      "text/latex": [
       "$\\displaystyle a_{0}^{2} - 2$"
      ],
      "text/plain": [
       "<IPython.core.display.Math object>"
      ]
     },
     "metadata": {},
     "output_type": "display_data"
    },
    {
     "data": {
      "text/latex": [
       "$\\displaystyle 0$"
      ],
      "text/plain": [
       "<IPython.core.display.Math object>"
      ]
     },
     "metadata": {},
     "output_type": "display_data"
    },
    {
     "data": {
      "text/latex": [
       "$\\displaystyle 2 a_{0} a_{2} - a_{1}^{2} - 4$"
      ],
      "text/plain": [
       "<IPython.core.display.Math object>"
      ]
     },
     "metadata": {},
     "output_type": "display_data"
    },
    {
     "data": {
      "text/latex": [
       "$\\displaystyle 0$"
      ],
      "text/plain": [
       "<IPython.core.display.Math object>"
      ]
     },
     "metadata": {},
     "output_type": "display_data"
    },
    {
     "data": {
      "text/latex": [
       "$\\displaystyle a_{2}^{2} - 4$"
      ],
      "text/plain": [
       "<IPython.core.display.Math object>"
      ]
     },
     "metadata": {},
     "output_type": "display_data"
    }
   ],
   "source": [
    "coefarray = coefArray(result, Dem)\n",
    "for x in coefarray:\n",
    "    equation = display(Math(sp.latex(x)))\n",
    "    if equation is not None:\n",
    "        print(equation)"
   ]
  },
  {
   "cell_type": "markdown",
   "id": "2b347a3b",
   "metadata": {},
   "source": [
    "Solucionamos el sistema con nonlinsolve y listamos sólo aquellas donde todos los coeficientes sean positivos:"
   ]
  },
  {
   "cell_type": "code",
   "execution_count": 19,
   "id": "0229b9a0",
   "metadata": {
    "tags": []
   },
   "outputs": [],
   "source": [
    "soluciones = sp.nonlinsolve(coefarray, symbols)"
   ]
  },
  {
   "cell_type": "code",
   "execution_count": 20,
   "id": "c7cb660a",
   "metadata": {
    "tags": []
   },
   "outputs": [],
   "source": [
    "def hasProperty(sol):\n",
    "    if(sol[0].is_real and sol[1].is_real and sol[2].is_real):\n",
    "        return sp.GreaterThan(sol[0], 0) and sp.GreaterThan(sol[1], 0) and sp.GreaterThan(sol[2], 0)"
   ]
  },
  {
   "cell_type": "code",
   "execution_count": 21,
   "id": "131e63c2",
   "metadata": {
    "tags": []
   },
   "outputs": [
    {
     "data": {
      "text/latex": [
       "$\\displaystyle \\left( \\sqrt{2}, \\  \\sqrt{-4 + 4 \\sqrt{2}}, \\  2\\right)$"
      ],
      "text/plain": [
       "(sqrt(2), sqrt(-4 + 4*sqrt(2)), 2)"
      ]
     },
     "execution_count": 21,
     "metadata": {},
     "output_type": "execute_result"
    }
   ],
   "source": [
    "finalResult = list(filter(hasProperty, soluciones))[0]\n",
    "finalResult"
   ]
  },
  {
   "cell_type": "markdown",
   "id": "7af91fad",
   "metadata": {},
   "source": [
    "Reemplazamos en nuestro polinomio de $H(s)$ positivo:"
   ]
  },
  {
   "cell_type": "code",
   "execution_count": 23,
   "id": "3ba71c57",
   "metadata": {
    "tags": []
   },
   "outputs": [
    {
     "data": {
      "text/latex": [
       "$\\displaystyle \\frac{1}{2 s^{2} + s \\sqrt{-4 + 4 \\sqrt{2}} + \\sqrt{2}}$"
      ],
      "text/plain": [
       "1/(2*s**2 + s*sqrt(-4 + 4*sqrt(2)) + sqrt(2))"
      ]
     },
     "execution_count": 23,
     "metadata": {},
     "output_type": "execute_result"
    }
   ],
   "source": [
    "H = p2.subs({symbols[0]:finalResult[0], symbols[1]:finalResult[1], symbols[2]:finalResult[2]})\n",
    "H = 1/H\n",
    "H"
   ]
  },
  {
   "cell_type": "code",
   "execution_count": null,
   "id": "0802c65e-917e-4313-aacb-84e16724e1d5",
   "metadata": {},
   "outputs": [],
   "source": []
  },
  {
   "cell_type": "code",
   "execution_count": 7,
   "id": "fa437e9a-c6ce-4a63-bc6e-96ff951b2b22",
   "metadata": {},
   "outputs": [
    {
     "data": {
      "text/plain": [
       "sympy.core.symbol.Symbol"
      ]
     },
     "execution_count": 7,
     "metadata": {},
     "output_type": "execute_result"
    }
   ],
   "source": [
    "type(a)"
   ]
  },
  {
   "cell_type": "code",
   "execution_count": null,
   "id": "eca21347-ce93-4eea-87cf-c9b885ab1b52",
   "metadata": {},
   "outputs": [],
   "source": []
  }
 ],
 "metadata": {
  "kernelspec": {
   "display_name": "Python 3",
   "language": "python",
   "name": "python3"
  },
  "language_info": {
   "codemirror_mode": {
    "name": "ipython",
    "version": 3
   },
   "file_extension": ".py",
   "mimetype": "text/x-python",
   "name": "python",
   "nbconvert_exporter": "python",
   "pygments_lexer": "ipython3",
   "version": "3.8.5"
  }
 },
 "nbformat": 4,
 "nbformat_minor": 5
}
