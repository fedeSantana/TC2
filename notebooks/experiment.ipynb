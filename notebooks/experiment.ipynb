{
 "cells": [
  {
   "cell_type": "code",
   "execution_count": 1,
   "id": "6acd2669",
   "metadata": {
    "tags": []
   },
   "outputs": [],
   "source": [
    "import sympy as sp\n",
    "from IPython.display import display, Math\n",
    "from generatePoly import generatePoly"
   ]
  },
  {
   "cell_type": "code",
   "execution_count": 2,
   "id": "bfed494f",
   "metadata": {
    "tags": []
   },
   "outputs": [],
   "source": [
    "w, s, e = sp.symbols('w s e') # Creamos las variables que usaremos en nuestras funciones.\n",
    "H, f, Dem, p, np, result = sp.symbols('H, f, Dem p np result', cls=sp.Function) # Creamos ls funciones que usaremos."
   ]
  },
  {
   "cell_type": "markdown",
   "id": "ebc3b7ca",
   "metadata": {},
   "source": [
    "Dada la función:\n",
    "\n",
    "$$\\left|H(s)\\right|^2 = \\frac{1}{14s^4+4s^2+2}$$\n",
    "\n",
    "Lo podríamos separar en:\n",
    "\n",
    "$$H(s)\\cdot H(− s) = \\frac{1}{14s^4+4s^2+2} = \\frac{1}{a_1s^2 + a_0s + a} \\cdot \\frac{1}{a_1s^2 - a_0s + a}$$\n",
    "\n",
    "Esto lo podemos generalizar para cualquier polinomio de grado n par. Primero ponemos el polinomio de $|H(s)|^2$ en una variable de sympy de tipo poly"
   ]
  },
  {
   "cell_type": "code",
   "execution_count": 143,
   "id": "596de00a",
   "metadata": {
    "tags": []
   },
   "outputs": [
    {
     "data": {
      "text/latex": [
       "$\\displaystyle \\operatorname{Poly}{\\left( 4 s^{4} + 4 s^{2} + 2, s, domain=\\mathbb{Z} \\right)}$"
      ],
      "text/plain": [
       "Poly(4*s**4 + 4*s**2 + 2, s, domain='ZZ')"
      ]
     },
     "metadata": {},
     "output_type": "display_data"
    }
   ],
   "source": [
    "Dem = sp.poly(4*s**4 + 4*s**2 + 2, s)\n",
    "display(Dem)"
   ]
  },
  {
   "cell_type": "markdown",
   "id": "894df8f3",
   "metadata": {},
   "source": [
    "Luego generamos los polinomios genéricos pra $H(s)$ y $H(-s)$"
   ]
  },
  {
   "cell_type": "code",
   "execution_count": 7,
   "id": "92a9edf2",
   "metadata": {
    "tags": []
   },
   "outputs": [
    {
     "data": {
      "text/latex": [
       "$\\displaystyle \\operatorname{Poly}{\\left( a_{2} s^{2} + a_{1} s + a_{0}, s, domain=\\mathbb{Z}\\left[a_{0}, a_{1}, a_{2}\\right] \\right)}$"
      ],
      "text/plain": [
       "<IPython.core.display.Math object>"
      ]
     },
     "metadata": {},
     "output_type": "display_data"
    },
    {
     "data": {
      "text/latex": [
       "$\\displaystyle \\operatorname{Poly}{\\left( a_{2} s^{2} + a_{1} - s + a_{0}, - s, domain=\\mathbb{Z}\\left[a_{0}, a_{1}, a_{2}\\right] \\right)}$"
      ],
      "text/plain": [
       "<IPython.core.display.Math object>"
      ]
     },
     "metadata": {},
     "output_type": "display_data"
    }
   ],
   "source": [
    "p2, symbols = generatePoly(2)\n",
    "np2 = sp.poly(p2.subs({s:-s}))\n",
    "\n",
    "# Mostramos en LaTeX los polinomios:\n",
    "display(Math((sp.latex(p2)))) \n",
    "display(Math((sp.latex(np2))))"
   ]
  },
  {
   "cell_type": "markdown",
   "id": "77a6a74a",
   "metadata": {},
   "source": [
    "Multiplicamos ambos polinomios y guardamos en un nueva variable:"
   ]
  },
  {
   "cell_type": "code",
   "execution_count": 89,
   "id": "347c76dc",
   "metadata": {
    "tags": []
   },
   "outputs": [
    {
     "data": {
      "text/latex": [
       "$\\displaystyle \\operatorname{Poly}{\\left( a_{2}^{2} s^{4} + \\left(2 a_{0} a_{2} - a_{1}^{2}\\right) s^{2} + a_{0}^{2}, s, domain=\\mathbb{Z}\\left[a_{0}, a_{1}, a_{2}\\right] \\right)}$"
      ],
      "text/plain": [
       "<IPython.core.display.Math object>"
      ]
     },
     "metadata": {},
     "output_type": "display_data"
    }
   ],
   "source": [
    "result = sp.poly(p2 * np2, s)\n",
    "display(Math((sp.latex(result))))"
   ]
  },
  {
   "cell_type": "markdown",
   "id": "96b9abe5-43fd-48d6-b668-6991cbb68abd",
   "metadata": {},
   "source": [
    "Con eso ya podemos hacer nuestro sistema de ecuaciones que será algo así:"
   ]
  },
  {
   "cell_type": "code",
   "execution_count": 104,
   "id": "608c205b-f06e-48ad-8b2e-11d28b63b7f7",
   "metadata": {},
   "outputs": [
    {
     "data": {
      "text/latex": [
       "$\\displaystyle 2={a_{0}}^{2}$"
      ],
      "text/plain": [
       "<IPython.core.display.Math object>"
      ]
     },
     "metadata": {},
     "output_type": "display_data"
    },
    {
     "data": {
      "text/latex": [
       "$\\displaystyle 4=2 {a_{0}} {a_{2}} - {a_{1}}^{2}$"
      ],
      "text/plain": [
       "<IPython.core.display.Math object>"
      ]
     },
     "metadata": {},
     "output_type": "display_data"
    },
    {
     "data": {
      "text/latex": [
       "$\\displaystyle 4={a_{2}}^{2}$"
      ],
      "text/plain": [
       "<IPython.core.display.Math object>"
      ]
     },
     "metadata": {},
     "output_type": "display_data"
    }
   ],
   "source": [
    "def printCoefArray (poly, dem):\n",
    "    symbolsFormatted = {symbol: \"{\" + sp.latex(symbol) + \"}\" for symbol in symbols}\n",
    "    result = []\n",
    "    n = sp.degree(dem)\n",
    "    for i in range(n+1):\n",
    "        polyCoeff = poly.coeff_monomial(s**i)\n",
    "        demCoeff = dem.coeff_monomial(s**i)\n",
    "        equation = polyCoeff - demCoeff\n",
    "        if (equation != 0):\n",
    "            equation = sp.latex(demCoeff) + \"=\" + sp.latex(polyCoeff, symbol_names=symbolsFormatted)\n",
    "            display(Math(equation))\n",
    "            \n",
    "printCoefArray(result,Dem)"
   ]
  },
  {
   "cell_type": "markdown",
   "id": "6c171a43",
   "metadata": {},
   "source": [
    "Para luego poder usar __nonlinsolve__ vamos a necesitar que este array de coeficientes esté igualado a 0, en las siguiente linea nos encargamos de igualarlo a 0 y mostrarlo."
   ]
  },
  {
   "cell_type": "code",
   "execution_count": 107,
   "id": "6babf590",
   "metadata": {
    "tags": []
   },
   "outputs": [
    {
     "data": {
      "text/latex": [
       "$\\displaystyle Equation  \\hspace{0.2cm} 0:{a_{0}}^{2} - 2\\\\\n",
       "Equation  \\hspace{0.2cm} 1:2 {a_{0}} {a_{2}} - {a_{1}}^{2} - 4\\\\\n",
       "Equation  \\hspace{0.2cm} 2:{a_{2}}^{2} - 4$"
      ],
      "text/plain": [
       "<IPython.core.display.Math object>"
      ]
     },
     "execution_count": 107,
     "metadata": {},
     "output_type": "execute_result"
    }
   ],
   "source": [
    "def coefArray (poly, dem):\n",
    "    result = []\n",
    "    n = sp.degree(dem)\n",
    "    for i in range(n+1):\n",
    "        polyCoeff = poly.coeff_monomial(s**i)\n",
    "        demCoeff = dem.coeff_monomial(s**i)\n",
    "        equation = polyCoeff - demCoeff\n",
    "        if( equation  != 0):\n",
    "            result.append(equation)\n",
    "    return result\n",
    "\n",
    "coefarray = coefArray(result, Dem) # Calculo los coeficientes\n",
    "\n",
    "## Todo lo demás es sólo con fines de mostrar las ecuaciones de una forma cómoda y linda, no de importancia porque uso estructuras complejas.\n",
    "symbolsFormatted = {symbol: \"{\" + sp.latex(symbol) + \"}\" for symbol in symbols}\n",
    "equations = [f\"Equation  \\hspace{{0.2cm}} {i}:\" + sp.latex(equation, symbol_names=symbolsFormatted) for i, equation in enumerate(coefarray) if equation is not None]\n",
    "Math(\"\\\\\\\\\\n\".join(equations))\n"
   ]
  },
  {
   "cell_type": "markdown",
   "id": "2b347a3b",
   "metadata": {},
   "source": [
    "Solucionamos el sistema con nonlinsolve y listamos sólo aquellas donde todos los coeficientes sean positivos:"
   ]
  },
  {
   "cell_type": "code",
   "execution_count": 229,
   "id": "0229b9a0",
   "metadata": {
    "tags": []
   },
   "outputs": [
    {
     "data": {
      "text/latex": [
       "$\\displaystyle a_0 =\\sqrt{2}$"
      ],
      "text/plain": [
       "<IPython.core.display.Math object>"
      ]
     },
     "metadata": {},
     "output_type": "display_data"
    },
    {
     "data": {
      "text/latex": [
       "$\\displaystyle a_1 =2 \\sqrt{-1 + \\sqrt{2}}$"
      ],
      "text/plain": [
       "<IPython.core.display.Math object>"
      ]
     },
     "metadata": {},
     "output_type": "display_data"
    },
    {
     "data": {
      "text/latex": [
       "$\\displaystyle a_2 =2$"
      ],
      "text/plain": [
       "<IPython.core.display.Math object>"
      ]
     },
     "metadata": {},
     "output_type": "display_data"
    }
   ],
   "source": [
    "soluciones = sp.nonlinsolve(coefarray, symbols)\n",
    "## No den importancia a lo que sigue, es sólo para limpiar las soluciones que no nos importan (complejas, negativas, etc)\n",
    "def hasProperty(sol):\n",
    "    return all((s.is_real and sp.GreaterThan(s, 0) for s in sol))\n",
    "finalResult = list(filter(hasProperty, soluciones))[0]\n",
    "\n",
    "#Imprimir la solución\n",
    "\n",
    "for i,result in enumerate(finalResult):\n",
    "    display(Math( f\"a_{i} =\" + sp.latex(result)))"
   ]
  },
  {
   "cell_type": "markdown",
   "id": "7af91fad",
   "metadata": {},
   "source": [
    "Reemplazamos en nuestro polinomio de $H(s)$ positivo:"
   ]
  },
  {
   "cell_type": "code",
   "execution_count": 129,
   "id": "3ba71c57",
   "metadata": {
    "tags": []
   },
   "outputs": [
    {
     "data": {
      "text/latex": [
       "$\\displaystyle H(S) =\\frac{1}{2 s^{2} + 1.29 s + 1.41}$"
      ],
      "text/plain": [
       "<IPython.core.display.Math object>"
      ]
     },
     "metadata": {},
     "output_type": "display_data"
    }
   ],
   "source": [
    "finalResult_prettier = []\n",
    "\n",
    "# Todo este for se encarga de que en vez de aparecer raiz de 2 y etc, salga el valor númerico gracias a sp.N, \n",
    "# sin embargo si lo aplicaba a los 3 números, saldría 2.0 en vez de 2, así que excluí los integers para que no \n",
    "# Ocurra en ellos.\n",
    "for result in finalResult: \n",
    "    if type(result) != sp.core.numbers.Integer:\n",
    "        result = sp.N(result,3)\n",
    "        \n",
    "    finalResult_prettier.append(result)\n",
    "        \n",
    "values = {symbol: finalResult_prettier[i] for i, symbol in enumerate(symbols)}\n",
    "\n",
    "H = p2.subs(values)\n",
    "H = 1/H\n",
    "Mostrar = \"H(S) =\"+ sp.latex(H)\n",
    "display(Math(Mostrar))"
   ]
  },
  {
   "cell_type": "code",
   "execution_count": null,
   "id": "9fc59aed-216b-4aa2-8efe-6e3d13a429ac",
   "metadata": {},
   "outputs": [],
   "source": []
  }
 ],
 "metadata": {
  "kernelspec": {
   "display_name": "Python 3",
   "language": "python",
   "name": "python3"
  },
  "language_info": {
   "codemirror_mode": {
    "name": "ipython",
    "version": 3
   },
   "file_extension": ".py",
   "mimetype": "text/x-python",
   "name": "python",
   "nbconvert_exporter": "python",
   "pygments_lexer": "ipython3",
   "version": "3.8.5"
  }
 },
 "nbformat": 4,
 "nbformat_minor": 5
}
