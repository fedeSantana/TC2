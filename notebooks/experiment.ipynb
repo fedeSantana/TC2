{
 "cells": [
  {
   "cell_type": "code",
   "execution_count": 4,
   "id": "6acd2669",
   "metadata": {
    "tags": []
   },
   "outputs": [],
   "source": [
    "import sympy as sp\n",
    "from IPython.display import display, Math\n",
    "from generatePoly import generatePoly"
   ]
  },
  {
   "cell_type": "code",
   "execution_count": 5,
   "id": "bfed494f",
   "metadata": {
    "tags": []
   },
   "outputs": [],
   "source": [
    "w, s = sp.symbols('w s') # Creamos las variables que usaremos en nuestras funciones.\n",
    "H, f, Dem, p, np, result = sp.symbols('H, f, Dem p np result', cls=sp.Function) # Creamos ls funciones que usaremos."
   ]
  },
  {
   "cell_type": "markdown",
   "id": "ebc3b7ca",
   "metadata": {},
   "source": [
    "Dada la función:\n",
    "\n",
    "$$\\left|H(s)\\right|^2 = \\frac{1}{14s^4+4s^2+2}$$\n",
    "\n",
    "Lo podríamos separar en:\n",
    "\n",
    "$$H(s)\\cdot H(− s) = \\frac{1}{14s^4+4s^2+2} = \\frac{1}{a_1s^2 + a_0s + a} \\cdot \\frac{1}{a_1s^2 - a_0s + a}$$\n",
    "\n",
    "Esto lo podemos generalizar para cualquier polinomio de grado n par. Primero ponemos el polinomio de $|H(s)|^2$ en una variable de sympy de tipo poly"
   ]
  },
  {
   "cell_type": "code",
   "execution_count": 6,
   "id": "596de00a",
   "metadata": {
    "tags": []
   },
   "outputs": [
    {
     "data": {
      "text/latex": [
       "$\\displaystyle \\operatorname{Poly}{\\left( 4 s^{4} + 4 s^{2} + 2, s, domain=\\mathbb{Z} \\right)}$"
      ],
      "text/plain": [
       "Poly(4*s**4 + 4*s**2 + 2, s, domain='ZZ')"
      ]
     },
     "execution_count": 6,
     "metadata": {},
     "output_type": "execute_result"
    }
   ],
   "source": [
    "Dem = sp.poly(4*s**4 + 4*s**2 + 2, s)\n",
    "Dem"
   ]
  },
  {
   "cell_type": "markdown",
   "id": "894df8f3",
   "metadata": {},
   "source": [
    "Luego generamos los polinomios genéricos pra $H(s)$ y $H(-s)$"
   ]
  },
  {
   "cell_type": "code",
   "execution_count": 7,
   "id": "92a9edf2",
   "metadata": {
    "tags": []
   },
   "outputs": [
    {
     "data": {
      "text/latex": [
       "$\\displaystyle \\operatorname{Poly}{\\left( a_{2} s^{2} + a_{1} s + a_{0}, s, domain=\\mathbb{Z}\\left[a_{0}, a_{1}, a_{2}\\right] \\right)}$"
      ],
      "text/plain": [
       "<IPython.core.display.Math object>"
      ]
     },
     "metadata": {},
     "output_type": "display_data"
    },
    {
     "data": {
      "text/latex": [
       "$\\displaystyle \\operatorname{Poly}{\\left( a_{2} s^{2} + a_{1} - s + a_{0}, - s, domain=\\mathbb{Z}\\left[a_{0}, a_{1}, a_{2}\\right] \\right)}$"
      ],
      "text/plain": [
       "<IPython.core.display.Math object>"
      ]
     },
     "metadata": {},
     "output_type": "display_data"
    }
   ],
   "source": [
    "p2, symbols = generatePoly(2)\n",
    "np2 = sp.poly(p2.subs({s:-s}))\n",
    "\n",
    "# Mostramos en LaTeX los polinomios:\n",
    "display(Math((sp.latex(p2)))) \n",
    "display(Math((sp.latex(np2))))"
   ]
  },
  {
   "cell_type": "markdown",
   "id": "77a6a74a",
   "metadata": {},
   "source": [
    "Multiplicamos ambos polinomios y guardamos en un nueva variable:"
   ]
  },
  {
   "cell_type": "code",
   "execution_count": 8,
   "id": "347c76dc",
   "metadata": {
    "tags": []
   },
   "outputs": [
    {
     "data": {
      "text/latex": [
       "$\\displaystyle \\operatorname{Poly}{\\left( a_{2}^{2} s^{4} + \\left(2 a_{0} a_{2} - a_{1}^{2}\\right) s^{2} + a_{0}^{2}, s, domain=\\mathbb{Z}\\left[a_{0}, a_{1}, a_{2}\\right] \\right)}$"
      ],
      "text/plain": [
       "<IPython.core.display.Math object>"
      ]
     },
     "metadata": {},
     "output_type": "display_data"
    }
   ],
   "source": [
    "result = sp.poly(p2 * np2, s)\n",
    "display(Math((sp.latex(result))))"
   ]
  },
  {
   "cell_type": "markdown",
   "id": "6c171a43",
   "metadata": {},
   "source": [
    "Ahora obtendremos los coeficientes, para ello necesitamos un array con todo nuestro sistema de ecuaciones igualado a $0$, lo obtenemos de la siguiente forma:"
   ]
  },
  {
   "cell_type": "code",
   "execution_count": 9,
   "id": "6babf590",
   "metadata": {
    "tags": []
   },
   "outputs": [],
   "source": [
    "def coefArray (poly, dem):\n",
    "    result = []\n",
    "    n = sp.degree(dem)\n",
    "    for i in range(n+1):\n",
    "        polyCoeff = poly.coeff_monomial(s**i)\n",
    "        demCoeff = dem.coeff_monomial(s**i)\n",
    "        equation = polyCoeff - demCoeff\n",
    "        if( equation  != 0):\n",
    "            result.append(equation)\n",
    "    return result"
   ]
  },
  {
   "cell_type": "code",
   "execution_count": 10,
   "id": "cd9da11a",
   "metadata": {
    "tags": []
   },
   "outputs": [
    {
     "data": {
      "text/latex": [
       "$\\displaystyle Equation  \\hspace{0.2cm} 0:{a_{0}}^{2} - 2\\\\\n",
       "Equation  \\hspace{0.2cm} 1:2 {a_{0}} {a_{2}} - {a_{1}}^{2} - 4\\\\\n",
       "Equation  \\hspace{0.2cm} 2:{a_{2}}^{2} - 4$"
      ],
      "text/plain": [
       "<IPython.core.display.Math object>"
      ]
     },
     "execution_count": 10,
     "metadata": {},
     "output_type": "execute_result"
    }
   ],
   "source": [
    "coefarray = coefArray(result, Dem) # Calculo los coeficientes\n",
    "\n",
    "## Todo lo demás es sólo con fines de mostrar las ecuaciones de una forma cómoda y linda, no de importancia porque uso estructuras complejas.\n",
    "symbolsFormatted = {symbol: \"{\" + sp.latex(symbol) + \"}\" for symbol in symbols}\n",
    "equations = [f\"Equation  \\hspace{{0.2cm}} {i}:\" + sp.latex(equation, symbol_names=symbolsFormatted) for i, equation in enumerate(coefarray) if equation is not None]\n",
    "Math(\"\\\\\\\\\\n\".join(equations))\n"
   ]
  },
  {
   "cell_type": "markdown",
   "id": "2b347a3b",
   "metadata": {},
   "source": [
    "Solucionamos el sistema con nonlinsolve y listamos sólo aquellas donde todos los coeficientes sean positivos:"
   ]
  },
  {
   "cell_type": "code",
   "execution_count": 13,
   "id": "0229b9a0",
   "metadata": {
    "tags": []
   },
   "outputs": [
    {
     "data": {
      "text/latex": [
       "$\\displaystyle \\left( \\sqrt{2}, \\  2 \\sqrt{-1 + \\sqrt{2}}, \\  2\\right)$"
      ],
      "text/plain": [
       "(sqrt(2), 2*sqrt(-1 + sqrt(2)), 2)"
      ]
     },
     "metadata": {},
     "output_type": "display_data"
    }
   ],
   "source": [
    "soluciones = sp.nonlinsolve(coefarray, symbols)\n",
    "## No den importancia a lo que sigue, es sólo para limpiar las soluciones que no nos importan (complejas, negativas, etc)\n",
    "def hasProperty(sol):\n",
    "    if(sol[0].is_real and sol[1].is_real and sol[2].is_real):\n",
    "        return sp.GreaterThan(sol[0], 0) and sp.GreaterThan(sol[1], 0) and sp.GreaterThan(sol[2], 0)\n",
    "finalResult = list(filter(hasProperty, soluciones))[0]\n",
    "display(finalResult)"
   ]
  },
  {
   "cell_type": "markdown",
   "id": "7af91fad",
   "metadata": {},
   "source": [
    "Reemplazamos en nuestro polinomio de $H(s)$ positivo:"
   ]
  },
  {
   "cell_type": "code",
   "execution_count": 74,
   "id": "3ba71c57",
   "metadata": {
    "tags": []
   },
   "outputs": [
    {
     "data": {
      "text/latex": [
       "$\\displaystyle H(S) =\\frac{1}{2 s^{2} + 1.29 s + 1.41}$"
      ],
      "text/plain": [
       "<IPython.core.display.Math object>"
      ]
     },
     "metadata": {},
     "output_type": "display_data"
    }
   ],
   "source": [
    "finalResult_prettier = []\n",
    "for result in finalResult: \n",
    "    if type(result) != sp.core.numbers.Integer:\n",
    "        result = sp.N(result,3)\n",
    "        \n",
    "    finalResult_prettier.append(result)\n",
    "        \n",
    "values = {symbol: finalResult_prettier[i] for i, symbol in enumerate(symbols)}\n",
    "\n",
    "H = p2.subs(values)\n",
    "H = 1/H\n",
    "Mostrar = \"H(S) =\"+ sp.latex(H)\n",
    "display(Math(Mostrar))"
   ]
  }
 ],
 "metadata": {
  "kernelspec": {
   "display_name": "Python 3",
   "language": "python",
   "name": "python3"
  },
  "language_info": {
   "codemirror_mode": {
    "name": "ipython",
    "version": 3
   },
   "file_extension": ".py",
   "mimetype": "text/x-python",
   "name": "python",
   "nbconvert_exporter": "python",
   "pygments_lexer": "ipython3",
   "version": "3.8.5"
  }
 },
 "nbformat": 4,
 "nbformat_minor": 5
}
