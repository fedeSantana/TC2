{
 "cells": [
  {
   "cell_type": "code",
   "execution_count": 131,
   "id": "6acd2669",
   "metadata": {},
   "outputs": [],
   "source": [
    "import sympy as sp\n",
    "from IPython.display import display, Math"
   ]
  },
  {
   "cell_type": "code",
   "execution_count": 171,
   "id": "9368c4c2",
   "metadata": {},
   "outputs": [],
   "source": [
    "def generatePoly (n):\n",
    "    \n",
    "    symbols = []\n",
    "    for i in range(n+1):\n",
    "      symbols.append(sp.symbols(f\"a_{i}\"))\n",
    "    \n",
    "    s = sp.symbols('s')\n",
    "    result = sp.poly(0, s)\n",
    "    for x in range(n+1):\n",
    "        result = result.add(sp.poly(symbols[x]*s**x,s))\n",
    "    return result, symbols"
   ]
  },
  {
   "cell_type": "code",
   "execution_count": 172,
   "id": "bfed494f",
   "metadata": {},
   "outputs": [],
   "source": [
    "w, s = sp.symbols('w s')"
   ]
  },
  {
   "cell_type": "code",
   "execution_count": 173,
   "id": "bf864e71",
   "metadata": {},
   "outputs": [],
   "source": [
    "a, b, c, k = sp.symbols('a b c k', positive=True)"
   ]
  },
  {
   "cell_type": "code",
   "execution_count": 174,
   "id": "13ee7afe",
   "metadata": {},
   "outputs": [],
   "source": [
    "H, f, Dem, p, np, result = sp.symbols('H, f, Dem p np result', cls=sp.Function)"
   ]
  },
  {
   "cell_type": "code",
   "execution_count": 175,
   "id": "596de00a",
   "metadata": {},
   "outputs": [
    {
     "data": {
      "text/latex": [
       "$\\displaystyle \\operatorname{Poly}{\\left( 4 s^{4} + 4 s^{2} + 2, s, domain=\\mathbb{Z} \\right)}$"
      ],
      "text/plain": [
       "Poly(4*s**4 + 4*s**2 + 2, s, domain='ZZ')"
      ]
     },
     "execution_count": 175,
     "metadata": {},
     "output_type": "execute_result"
    }
   ],
   "source": [
    "Dem = sp.poly(4*s**4 + 4*s**2 + 2, s) \n",
    "Dem"
   ]
  },
  {
   "cell_type": "code",
   "execution_count": 177,
   "id": "92a9edf2",
   "metadata": {},
   "outputs": [
    {
     "data": {
      "text/latex": [
       "$\\displaystyle \\operatorname{Poly}{\\left( a_{2} s^{2} + a_{1} s + a_{0}, s, domain=\\mathbb{Z}\\left[a_{0}, a_{1}, a_{2}\\right] \\right)}$"
      ],
      "text/plain": [
       "Poly(a_2*s**2 + a_1*s + a_0, s, domain='ZZ[a_0,a_1,a_2]')"
      ]
     },
     "execution_count": 177,
     "metadata": {},
     "output_type": "execute_result"
    }
   ],
   "source": [
    "p2 = generatePoly(2)[0]\n",
    "p2"
   ]
  },
  {
   "cell_type": "code",
   "execution_count": 99,
   "id": "d487aa9b",
   "metadata": {},
   "outputs": [
    {
     "data": {
      "text/latex": [
       "$\\displaystyle \\operatorname{Poly}{\\left( a_{2} s^{2} + a_{1} - s + a_{0}, - s, domain=\\mathbb{Z}\\left[a_{0}, a_{1}, a_{2}\\right] \\right)}$"
      ],
      "text/plain": [
       "Poly(a_2*(-s)**2 + a_1*(-s) + a_0, -s, domain='ZZ[a_0,a_1,a_2]')"
      ]
     },
     "execution_count": 99,
     "metadata": {},
     "output_type": "execute_result"
    }
   ],
   "source": [
    "np2 = sp.poly(p2.subs({s:-s}))\n",
    "np2"
   ]
  },
  {
   "cell_type": "code",
   "execution_count": 178,
   "id": "347c76dc",
   "metadata": {},
   "outputs": [
    {
     "data": {
      "text/latex": [
       "$\\displaystyle \\operatorname{Poly}{\\left( a_{2}^{2} s^{4} + \\left(2 a_{0} a_{2} - a_{1}^{2}\\right) s^{2} + a_{0}^{2}, s, domain=\\mathbb{Z}\\left[a_{0}, a_{1}, a_{2}\\right] \\right)}$"
      ],
      "text/plain": [
       "Poly(a_2**2*s**4 + (2*a_0*a_2 - a_1**2)*s**2 + a_0**2, s, domain='ZZ[a_0,a_1,a_2]')"
      ]
     },
     "execution_count": 178,
     "metadata": {},
     "output_type": "execute_result"
    }
   ],
   "source": [
    "result = sp.poly(p2 * np2, s)\n",
    "result"
   ]
  },
  {
   "cell_type": "code",
   "execution_count": 182,
   "id": "ae259175",
   "metadata": {},
   "outputs": [],
   "source": [
    "def coefArray (poly, dem):\n",
    "    result = []\n",
    "    n = sp.degree(dem)\n",
    "    for i in range(n+1):\n",
    "        result.append(poly.coeff_monomial(s**i) - dem.coeff_monomial(s**i))\n",
    "    return result"
   ]
  },
  {
   "cell_type": "code",
   "execution_count": 183,
   "id": "4a8cb447",
   "metadata": {},
   "outputs": [
    {
     "data": {
      "text/latex": [
       "$\\displaystyle a_{0}^{2} - 2$"
      ],
      "text/plain": [
       "<IPython.core.display.Math object>"
      ]
     },
     "metadata": {},
     "output_type": "display_data"
    },
    {
     "name": "stdout",
     "output_type": "stream",
     "text": [
      "None\n"
     ]
    },
    {
     "data": {
      "text/latex": [
       "$\\displaystyle 0$"
      ],
      "text/plain": [
       "<IPython.core.display.Math object>"
      ]
     },
     "metadata": {},
     "output_type": "display_data"
    },
    {
     "name": "stdout",
     "output_type": "stream",
     "text": [
      "None\n"
     ]
    },
    {
     "data": {
      "text/latex": [
       "$\\displaystyle 2 a_{0} a_{2} - a_{1}^{2} - 4$"
      ],
      "text/plain": [
       "<IPython.core.display.Math object>"
      ]
     },
     "metadata": {},
     "output_type": "display_data"
    },
    {
     "name": "stdout",
     "output_type": "stream",
     "text": [
      "None\n"
     ]
    },
    {
     "data": {
      "text/latex": [
       "$\\displaystyle 0$"
      ],
      "text/plain": [
       "<IPython.core.display.Math object>"
      ]
     },
     "metadata": {},
     "output_type": "display_data"
    },
    {
     "name": "stdout",
     "output_type": "stream",
     "text": [
      "None\n"
     ]
    },
    {
     "data": {
      "text/latex": [
       "$\\displaystyle a_{2}^{2} - 4$"
      ],
      "text/plain": [
       "<IPython.core.display.Math object>"
      ]
     },
     "metadata": {},
     "output_type": "display_data"
    },
    {
     "name": "stdout",
     "output_type": "stream",
     "text": [
      "None\n"
     ]
    }
   ],
   "source": [
    "coefarray = coefArray(result, Dem)\n",
    "for x in coefarray:\n",
    "    print(display(Math(sp.latex(x))))"
   ]
  },
  {
   "cell_type": "code",
   "execution_count": 184,
   "id": "9bb796e7",
   "metadata": {},
   "outputs": [
    {
     "data": {
      "text/plain": [
       "[a_0**2 - 2, 0, 2*a_0*a_2 - a_1**2 - 4, 0, a_2**2 - 4]"
      ]
     },
     "execution_count": 184,
     "metadata": {},
     "output_type": "execute_result"
    }
   ],
   "source": [
    "coefarray"
   ]
  },
  {
   "cell_type": "code",
   "execution_count": 185,
   "id": "0229b9a0",
   "metadata": {},
   "outputs": [],
   "source": [
    "soluciones = sp.nonlinsolve(coefarray, generatePoly(2)[1])"
   ]
  },
  {
   "cell_type": "code",
   "execution_count": 186,
   "id": "c7cb660a",
   "metadata": {},
   "outputs": [
    {
     "ename": "NameError",
     "evalue": "name 'solucion' is not defined",
     "output_type": "error",
     "traceback": [
      "\u001b[0;31m---------------------------------------------------------------------------\u001b[0m",
      "\u001b[0;31mNameError\u001b[0m                                 Traceback (most recent call last)",
      "\u001b[0;32m<ipython-input-186-45e831fdf2dc>\u001b[0m in \u001b[0;36m<module>\u001b[0;34m\u001b[0m\n\u001b[1;32m      2\u001b[0m     \u001b[0;32mif\u001b[0m\u001b[0;34m(\u001b[0m\u001b[0msolucion\u001b[0m\u001b[0;34m[\u001b[0m\u001b[0;36m0\u001b[0m\u001b[0;34m]\u001b[0m\u001b[0;34m.\u001b[0m\u001b[0mis_real\u001b[0m \u001b[0;32mand\u001b[0m \u001b[0msolucion\u001b[0m\u001b[0;34m[\u001b[0m\u001b[0;36m1\u001b[0m\u001b[0;34m]\u001b[0m\u001b[0;34m.\u001b[0m\u001b[0mis_real\u001b[0m \u001b[0;32mand\u001b[0m \u001b[0msolucion\u001b[0m\u001b[0;34m[\u001b[0m\u001b[0;36m2\u001b[0m\u001b[0;34m]\u001b[0m\u001b[0;34m.\u001b[0m\u001b[0mis_real\u001b[0m\u001b[0;34m)\u001b[0m\u001b[0;34m:\u001b[0m\u001b[0;34m\u001b[0m\u001b[0;34m\u001b[0m\u001b[0m\n\u001b[1;32m      3\u001b[0m         \u001b[0;32mreturn\u001b[0m \u001b[0msp\u001b[0m\u001b[0;34m.\u001b[0m\u001b[0mGreaterThan\u001b[0m\u001b[0;34m(\u001b[0m\u001b[0msolucion\u001b[0m\u001b[0;34m[\u001b[0m\u001b[0;36m0\u001b[0m\u001b[0;34m]\u001b[0m\u001b[0;34m,\u001b[0m \u001b[0;36m0\u001b[0m\u001b[0;34m)\u001b[0m \u001b[0;32mand\u001b[0m \u001b[0msp\u001b[0m\u001b[0;34m.\u001b[0m\u001b[0mGreaterThan\u001b[0m\u001b[0;34m(\u001b[0m\u001b[0msolucion\u001b[0m\u001b[0;34m[\u001b[0m\u001b[0;36m1\u001b[0m\u001b[0;34m]\u001b[0m\u001b[0;34m,\u001b[0m \u001b[0;36m0\u001b[0m\u001b[0;34m)\u001b[0m \u001b[0;32mand\u001b[0m \u001b[0msp\u001b[0m\u001b[0;34m.\u001b[0m\u001b[0mGreaterThan\u001b[0m\u001b[0;34m\u001b[0m\u001b[0;34m\u001b[0m\u001b[0m\n\u001b[0;32m----> 4\u001b[0;31m \u001b[0;34m(\u001b[0m\u001b[0msolucion\u001b[0m\u001b[0;34m[\u001b[0m\u001b[0;36m2\u001b[0m\u001b[0;34m]\u001b[0m\u001b[0;34m,\u001b[0m \u001b[0;36m0\u001b[0m\u001b[0;34m)\u001b[0m\u001b[0;34m\u001b[0m\u001b[0;34m\u001b[0m\u001b[0m\n\u001b[0m",
      "\u001b[0;31mNameError\u001b[0m: name 'solucion' is not defined"
     ]
    }
   ],
   "source": [
    "def hasProperty(solucion):\n",
    "    if(solucion[0].is_real and solucion[1].is_real and solucion[2].is_real):\n",
    "        return sp.GreaterThan(solucion[0], 0) and sp.GreaterThan(solucion[1], 0) and sp.GreaterThan\n",
    "(solucion[2], 0)"
   ]
  },
  {
   "cell_type": "code",
   "execution_count": 187,
   "id": "131e63c2",
   "metadata": {},
   "outputs": [
    {
     "data": {
      "text/latex": [
       "$\\displaystyle \\left( \\sqrt{2}, \\  \\sqrt{-4 + 4 \\sqrt{2}}, \\  2\\right)$"
      ],
      "text/plain": [
       "(sqrt(2), sqrt(-4 + 4*sqrt(2)), 2)"
      ]
     },
     "execution_count": 187,
     "metadata": {},
     "output_type": "execute_result"
    }
   ],
   "source": [
    "list(filter(hasProperty, soluciones))[0]"
   ]
  }
 ],
 "metadata": {
  "kernelspec": {
   "display_name": "Python 3",
   "language": "python",
   "name": "python3"
  },
  "language_info": {
   "codemirror_mode": {
    "name": "ipython",
    "version": 3
   },
   "file_extension": ".py",
   "mimetype": "text/x-python",
   "name": "python",
   "nbconvert_exporter": "python",
   "pygments_lexer": "ipython3",
   "version": "3.8.5"
  }
 },
 "nbformat": 4,
 "nbformat_minor": 5
}
