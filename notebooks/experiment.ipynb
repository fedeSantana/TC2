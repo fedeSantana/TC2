{
 "cells": [
  {
   "cell_type": "code",
   "execution_count": 131,
   "id": "6acd2669",
   "metadata": {},
   "outputs": [],
   "source": [
    "import sympy as sp\n",
    "from IPython.display import display, Math"
   ]
  },
  {
   "cell_type": "code",
   "execution_count": 190,
   "id": "649c31fd",
   "metadata": {},
   "outputs": [],
   "source": [
    "def generatePoly (n):\n",
    "    \n",
    "    symbols = []\n",
    "    for i in range(n+1):\n",
    "      symbols.append(sp.symbols(f\"a_{i}\"))\n",
    "    \n",
    "    s = sp.symbols('s')\n",
    "    result = sp.poly(0, s)\n",
    "    for x in range(n+1):\n",
    "        result = result.add(sp.poly(symbols[x]*s**x,s))\n",
    "    return result, symbols"
   ]
  },
  {
   "cell_type": "code",
   "execution_count": 191,
   "id": "bfed494f",
   "metadata": {},
   "outputs": [],
   "source": [
    "w, s = sp.symbols('w s')"
   ]
  },
  {
   "cell_type": "code",
   "execution_count": 192,
   "id": "bf864e71",
   "metadata": {},
   "outputs": [],
   "source": [
    "a, b, c, k = sp.symbols('a b c k', positive=True)"
   ]
  },
  {
   "cell_type": "code",
   "execution_count": 193,
   "id": "13ee7afe",
   "metadata": {},
   "outputs": [],
   "source": [
    "H, f, Dem, p, np, result = sp.symbols('H, f, Dem p np result', cls=sp.Function)"
   ]
  },
  {
   "cell_type": "markdown",
   "id": "48e13894",
   "metadata": {},
   "source": [
    "Dada la función:\n",
    "\n",
    "$$\\left|H(s)\\right|^2 = \\frac{1}{14s^4+4s^2+2}$$\n",
    "\n",
    "Lo podríamos separar en:\n",
    "\n",
    "$$H(s)\\cdot H(−s) = \\frac{1}{14s^4+4s^2+2} = \\frac{1}{a_1s^2 + a_0s + a} \\cdot \\frac{1}{a_1s^2 - a_0s + a}$$\n",
    "\n",
    "Esto lo podemos generalizar para cualquier polinomio de grado n par. Primero ponemos el polinomio de $|H(s)|^2$ en una variable de sympy de tipo poly"
   ]
  },
  {
   "cell_type": "code",
   "execution_count": 202,
   "id": "596de00a",
   "metadata": {},
   "outputs": [
    {
     "data": {
      "text/latex": [
       "$\\displaystyle \\operatorname{Poly}{\\left( 4 s^{4} + 4 s^{2} + 2, s, domain=\\mathbb{Z} \\right)}$"
      ],
      "text/plain": [
       "Poly(4*s**4 + 4*s**2 + 2, s, domain='ZZ')"
      ]
     },
     "execution_count": 202,
     "metadata": {},
     "output_type": "execute_result"
    }
   ],
   "source": [
    "Dem = sp.poly(4*s**4 + 4*s**2 + 2, s) \n",
    "Dem"
   ]
  },
  {
   "cell_type": "markdown",
   "id": "19e195c3",
   "metadata": {},
   "source": [
    "Luego generamos los polinomios genéricos pra $H(s)$ y $H(-s)$"
   ]
  },
  {
   "cell_type": "code",
   "execution_count": 209,
   "id": "92a9edf2",
   "metadata": {},
   "outputs": [
    {
     "data": {
      "text/latex": [
       "$\\displaystyle \\operatorname{Poly}{\\left( a_{2} s^{2} + a_{1} s + a_{0}, s, domain=\\mathbb{Z}\\left[a_{0}, a_{1}, a_{2}\\right] \\right)}$"
      ],
      "text/plain": [
       "<IPython.core.display.Math object>"
      ]
     },
     "metadata": {},
     "output_type": "display_data"
    },
    {
     "name": "stdout",
     "output_type": "stream",
     "text": [
      "None\n"
     ]
    },
    {
     "data": {
      "text/latex": [
       "$\\displaystyle \\operatorname{Poly}{\\left( a_{2} s^{2} + a_{1} - s + a_{0}, - s, domain=\\mathbb{Z}\\left[a_{0}, a_{1}, a_{2}\\right] \\right)}$"
      ],
      "text/plain": [
       "<IPython.core.display.Math object>"
      ]
     },
     "metadata": {},
     "output_type": "display_data"
    },
    {
     "name": "stdout",
     "output_type": "stream",
     "text": [
      "None\n"
     ]
    }
   ],
   "source": [
    "p2 = generatePoly(2)[0]\n",
    "np2 = sp.poly(p2.subs({s:-s}))\n",
    "print(display(Math(sp.latex(p2))))\n",
    "print(display(Math(sp.latex(np2))))"
   ]
  },
  {
   "cell_type": "markdown",
   "id": "30c0cc90",
   "metadata": {},
   "source": [
    "Multiplicamos ambos polinomios y guardamos en un nueva variable:"
   ]
  },
  {
   "cell_type": "code",
   "execution_count": 211,
   "id": "347c76dc",
   "metadata": {},
   "outputs": [
    {
     "data": {
      "text/latex": [
       "$\\displaystyle \\operatorname{Poly}{\\left( a_{2}^{2} s^{4} + \\left(2 a_{0} a_{2} - a_{1}^{2}\\right) s^{2} + a_{0}^{2}, s, domain=\\mathbb{Z}\\left[a_{0}, a_{1}, a_{2}\\right] \\right)}$"
      ],
      "text/plain": [
       "Poly(a_2**2*s**4 + (2*a_0*a_2 - a_1**2)*s**2 + a_0**2, s, domain='ZZ[a_0,a_1,a_2]')"
      ]
     },
     "execution_count": 211,
     "metadata": {},
     "output_type": "execute_result"
    }
   ],
   "source": [
    "result = sp.poly(p2 * np2, s)\n",
    "result"
   ]
  },
  {
   "cell_type": "markdown",
   "id": "4b5b1bc0",
   "metadata": {},
   "source": [
    "Ahora obtendremos los coeficientes, para ello necesitamos un array con todo nuestro sistema de ecuaciones igualado a $0$, lo obtenemos de la siguiente forma:"
   ]
  },
  {
   "cell_type": "code",
   "execution_count": 214,
   "id": "2543fbc0",
   "metadata": {},
   "outputs": [],
   "source": [
    "def coefArray (poly, dem):\n",
    "    result = []\n",
    "    n = sp.degree(dem)\n",
    "    for i in range(n+1):\n",
    "        result.append(poly.coeff_monomial(s**i) - dem.coeff_monomial(s**i))\n",
    "    return result"
   ]
  },
  {
   "cell_type": "code",
   "execution_count": 241,
   "id": "10143e2c",
   "metadata": {},
   "outputs": [
    {
     "data": {
      "text/latex": [
       "$\\displaystyle a_{0}^{2} - 2$"
      ],
      "text/plain": [
       "<IPython.core.display.Math object>"
      ]
     },
     "metadata": {},
     "output_type": "display_data"
    },
    {
     "data": {
      "text/latex": [
       "$\\displaystyle 0$"
      ],
      "text/plain": [
       "<IPython.core.display.Math object>"
      ]
     },
     "metadata": {},
     "output_type": "display_data"
    },
    {
     "data": {
      "text/latex": [
       "$\\displaystyle 2 a_{0} a_{2} - a_{1}^{2} - 4$"
      ],
      "text/plain": [
       "<IPython.core.display.Math object>"
      ]
     },
     "metadata": {},
     "output_type": "display_data"
    },
    {
     "data": {
      "text/latex": [
       "$\\displaystyle 0$"
      ],
      "text/plain": [
       "<IPython.core.display.Math object>"
      ]
     },
     "metadata": {},
     "output_type": "display_data"
    },
    {
     "data": {
      "text/latex": [
       "$\\displaystyle a_{2}^{2} - 4$"
      ],
      "text/plain": [
       "<IPython.core.display.Math object>"
      ]
     },
     "metadata": {},
     "output_type": "display_data"
    }
   ],
   "source": [
    "coefarray = coefArray(result, Dem)\n",
    "for x in coefarray:\n",
    "    equation = display(Math(sp.latex(x)))\n",
    "    if equation is not None:\n",
    "        print(equation)"
   ]
  },
  {
   "cell_type": "code",
   "execution_count": 238,
   "id": "0229b9a0",
   "metadata": {},
   "outputs": [],
   "source": [
    "soluciones = sp.nonlinsolve(coefarray, generatePoly(2)[1])"
   ]
  },
  {
   "cell_type": "code",
   "execution_count": 221,
   "id": "c7cb660a",
   "metadata": {},
   "outputs": [],
   "source": [
    "def hasProperty(sol):\n",
    "    if(sol[0].is_real and sol[1].is_real and sol[2].is_real):\n",
    "        return sp.GreaterThan(sol[0], 0) and sp.GreaterThan(sol[1], 0) and sp.GreaterThan(sol[2], 0)"
   ]
  },
  {
   "cell_type": "code",
   "execution_count": 222,
   "id": "131e63c2",
   "metadata": {},
   "outputs": [
    {
     "data": {
      "text/latex": [
       "$\\displaystyle \\left( \\sqrt{2}, \\  \\sqrt{-4 + 4 \\sqrt{2}}, \\  2\\right)$"
      ],
      "text/plain": [
       "(sqrt(2), sqrt(-4 + 4*sqrt(2)), 2)"
      ]
     },
     "execution_count": 222,
     "metadata": {},
     "output_type": "execute_result"
    }
   ],
   "source": [
    "list(filter(hasProperty, soluciones))[0]"
   ]
  },
  {
   "cell_type": "code",
   "execution_count": null,
   "id": "2d1f684b",
   "metadata": {},
   "outputs": [],
   "source": []
  }
 ],
 "metadata": {
  "kernelspec": {
   "display_name": "Python 3",
   "language": "python",
   "name": "python3"
  },
  "language_info": {
   "codemirror_mode": {
    "name": "ipython",
    "version": 3
   },
   "file_extension": ".py",
   "mimetype": "text/x-python",
   "name": "python",
   "nbconvert_exporter": "python",
   "pygments_lexer": "ipython3",
   "version": "3.8.5"
  }
 },
 "nbformat": 4,
 "nbformat_minor": 5
}
